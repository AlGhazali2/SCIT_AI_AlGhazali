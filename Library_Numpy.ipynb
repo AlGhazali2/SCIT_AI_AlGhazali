{
  "nbformat": 4,
  "nbformat_minor": 0,
  "metadata": {
    "colab": {
      "provenance": []
    },
    "kernelspec": {
      "name": "python3",
      "display_name": "Python 3"
    },
    "language_info": {
      "name": "python"
    }
  },
  "cells": [
    {
      "cell_type": "markdown",
      "source": [
        "**Bab 1: Pengenalan dan Pembuatan Array NumPy**"
      ],
      "metadata": {
        "id": "WHCMuY9rZs7Q"
      }
    },
    {
      "cell_type": "markdown",
      "source": [
        "*1.1. Apa itu NumPy dan Keunggulannya?*"
      ],
      "metadata": {
        "id": "mTjB-adFZz9I"
      }
    },
    {
      "cell_type": "markdown",
      "source": [
        "**NumPy** (singkatan dari Numerical Python) adalah library fundamental di Python untuk komputasi saintifik. Objek utamanya adalah ndarray (n-dimensional array), yaitu sebuah tabel data yang semua isinya harus memiliki **tipe data yang sama**.\n",
        "\n",
        "Bayangkan sebuah List di Python bisa diisi berbagai macam data (angka, tulisan, dll). Nah, NumPy Array lebih spesifik, seperti sebuah kotak yang hanya bisa diisi oleh angka saja. Hal ini memberikan beberapa keuntungan besar dibanding List biasa:\n",
        "\n",
        "- **Kecepatan**: Operasi matematika di NumPy jauh lebih cepat karena dieksekusi menggunakan bahasa C yang lebih efisien.\n",
        "\n",
        "- **Memori**: NumPy Array membutuhkan ruang memori yang lebih sedikit daripada List Python untuk jumlah data yang sama.\n",
        "\n",
        "- **Kenyamanan**: Memungkinkan kita melakukan operasi matematika pada seluruh data sekaligus tanpa perlu menulis perulangan (loop). Konsep ini disebut Vectorization."
      ],
      "metadata": {
        "id": "-gSLmiltZ_Tq"
      }
    },
    {
      "cell_type": "markdown",
      "source": [
        "*1.2. Membuat Array 1 Dimensi dari List*"
      ],
      "metadata": {
        "id": "fkFilwoXaVTh"
      }
    },
    {
      "cell_type": "code",
      "execution_count": 1,
      "metadata": {
        "colab": {
          "base_uri": "https://localhost:8080/"
        },
        "id": "axIRH2-eYgFI",
        "outputId": "ee2357c8-95ac-466f-bdf8-76276f67d338"
      },
      "outputs": [
        {
          "output_type": "stream",
          "name": "stdout",
          "text": [
            "Ini adalah List Python: [1, 2, 3, 4, 5]\n",
            "Ini adalah Array NumPy: [1 2 3 4 5]\n",
            "Tipe data list_python: <class 'list'>\n",
            "Tipe data array_numpy: <class 'numpy.ndarray'>\n"
          ]
        }
      ],
      "source": [
        "# Pertama, kita import library NumPy dengan alias 'np' (ini adalah standar umum)\n",
        "import numpy as np\n",
        "\n",
        "# Sebuah list Python biasa\n",
        "list_python = [1, 2, 3, 4, 5]\n",
        "\n",
        "# Mengubah list menjadi array NumPy\n",
        "array_numpy = np.array(list_python)\n",
        "\n",
        "print(f\"Ini adalah List Python: {list_python}\")\n",
        "print(f\"Ini adalah Array NumPy: {array_numpy}\")\n",
        "print(f\"Tipe data list_python: {type(list_python)}\")\n",
        "print(f\"Tipe data array_numpy: {type(array_numpy)}\")"
      ]
    },
    {
      "cell_type": "markdown",
      "source": [
        "*1.3. Membuat Array dengan Fungsi Bawaan*"
      ],
      "metadata": {
        "id": "_YVN-OPYbFLF"
      }
    },
    {
      "cell_type": "code",
      "source": [
        "import numpy as np\n",
        "\n",
        "# Membuat array berisi lima angka 0\n",
        "array_nol = np.zeros(5)\n",
        "print(f\"Array berisi angka nol: {array_nol}\")\n",
        "\n",
        "# Membuat array berisi empat angka 1\n",
        "array_satu = np.ones(4)\n",
        "print(f\"Array berisi angka satu: {array_satu}\")\n",
        "\n",
        "# Membuat array dengan rentang nilai (dari 0 hingga sebelum 10, dengan langkah 2)\n",
        "# Mirip seperti fungsi range() di Python\n",
        "array_rentang = np.arange(0, 10, 2)\n",
        "print(f\"Array dengan rentang nilai: {array_rentang}\")"
      ],
      "metadata": {
        "colab": {
          "base_uri": "https://localhost:8080/"
        },
        "id": "RJtQqZ1abEuS",
        "outputId": "37ef88ea-035c-417c-d942-f3f9c8b1b4c0"
      },
      "execution_count": 2,
      "outputs": [
        {
          "output_type": "stream",
          "name": "stdout",
          "text": [
            "Array berisi angka nol: [0. 0. 0. 0. 0.]\n",
            "Array berisi angka satu: [1. 1. 1. 1.]\n",
            "Array dengan rentang nilai: [0 2 4 6 8]\n"
          ]
        }
      ]
    },
    {
      "cell_type": "markdown",
      "source": [
        "**Bab 2: Operasi Matematika (Vectorization)**"
      ],
      "metadata": {
        "id": "B2NECgTCZr8h"
      }
    },
    {
      "cell_type": "markdown",
      "source": [
        "*2.1. Operasi Aritmatika Dasar*"
      ],
      "metadata": {
        "id": "eekZUF-Sc55F"
      }
    },
    {
      "cell_type": "code",
      "source": [
        "import numpy as np\n",
        "\n",
        "array_a = np.array([10, 20, 30, 40])\n",
        "array_b = np.array([2, 4, 6, 8])\n",
        "\n",
        "# Penjumlahan\n",
        "print(f\"Penjumlahan: {array_a + array_b}\")\n",
        "\n",
        "# Pengurangan\n",
        "print(f\"Pengurangan: {array_a - array_b}\")\n",
        "\n",
        "# Perkalian\n",
        "print(f\"Perkalian: {array_a * array_b}\")\n",
        "\n",
        "# Pembagian\n",
        "print(f\"Pembagian: {array_a / array_b}\")\n",
        "\n",
        "# Operasi dengan scalar\n",
        "print(f\"Dikali dua: {array_a * 2}\")"
      ],
      "metadata": {
        "colab": {
          "base_uri": "https://localhost:8080/"
        },
        "id": "x6JcQxkJc5XQ",
        "outputId": "e1cfcab4-3089-4418-eed9-9d46561c44f7"
      },
      "execution_count": 3,
      "outputs": [
        {
          "output_type": "stream",
          "name": "stdout",
          "text": [
            "Penjumlahan: [12 24 36 48]\n",
            "Pengurangan: [ 8 16 24 32]\n",
            "Perkalian: [ 20  80 180 320]\n",
            "Pembagian: [5. 5. 5. 5.]\n",
            "Dikali dua: [20 40 60 80]\n"
          ]
        }
      ]
    },
    {
      "cell_type": "markdown",
      "source": [
        "*2.2. Fungsi Matematika Universal (UFuncs)*"
      ],
      "metadata": {
        "id": "dY0peO04dNBk"
      }
    },
    {
      "cell_type": "code",
      "source": [
        "import numpy as np\n",
        "\n",
        "array_c = np.array([1, 4, 9, 16])\n",
        "\n",
        "# Menghitung akar kuadrat (square root) setiap elemen\n",
        "print(f\"Akar kuadrat: {np.sqrt(array_c)}\")\n",
        "\n",
        "# Menghitung eksponensial (e^x) setiap elemen\n",
        "print(f\"Eksponensial: {np.exp(array_c)}\")\n",
        "\n",
        "# Menghitung logaritma natural setiap elemen\n",
        "print(f\"Logaritma: {np.log(array_c)}\")"
      ],
      "metadata": {
        "colab": {
          "base_uri": "https://localhost:8080/"
        },
        "id": "H7HdeLhqdEJ-",
        "outputId": "c7801553-3d5c-4fdf-f13e-518a0de71875"
      },
      "execution_count": 4,
      "outputs": [
        {
          "output_type": "stream",
          "name": "stdout",
          "text": [
            "Akar kuadrat: [1. 2. 3. 4.]\n",
            "Eksponensial: [2.71828183e+00 5.45981500e+01 8.10308393e+03 8.88611052e+06]\n",
            "Logaritma: [0.         1.38629436 2.19722458 2.77258872]\n"
          ]
        }
      ]
    },
    {
      "cell_type": "markdown",
      "source": [
        "*2.3 Operasi Vektor & Matriks*"
      ],
      "metadata": {
        "id": "50EHJhcqgSqD"
      }
    },
    {
      "cell_type": "code",
      "source": [
        "#Operasi Vektor\n",
        "import numpy as np\n",
        "X = np.array([2.0,3.0,1.5])\n",
        "Y = np.array([0.5,-1.0,0.8])\n",
        "\n",
        "print(\"addition\")\n",
        "Z=X+Y\n",
        "print(Z)\n",
        "print(\"substraction\")\n",
        "Z=X-Y\n",
        "print(Z)\n",
        "print(\"Multiplication\")\n",
        "Z=X*Y\n",
        "print(Z)\n",
        "print(\"dot product\")\n",
        "Z=X@Y\n",
        "print(Z)\n",
        "print(\"dot product\")\n",
        "Z=np.dot(X,Y)\n",
        "print(Z)"
      ],
      "metadata": {
        "colab": {
          "base_uri": "https://localhost:8080/"
        },
        "id": "-dxfv83JggqN",
        "outputId": "284f0345-5adf-4a6e-a2bc-c4dd9b26db22"
      },
      "execution_count": 5,
      "outputs": [
        {
          "output_type": "stream",
          "name": "stdout",
          "text": [
            "addition\n",
            "[2.5 2.  2.3]\n",
            "substraction\n",
            "[1.5 4.  0.7]\n",
            "Multiplication\n",
            "[ 1.  -3.   1.2]\n",
            "dot product\n",
            "-0.7999999999999998\n",
            "dot product\n",
            "-0.7999999999999998\n"
          ]
        }
      ]
    },
    {
      "cell_type": "code",
      "source": [
        "#Operasi Matriks\n",
        "import numpy as np\n",
        "X = np.array([[1, 2, 3],\n",
        "              [0, 1, 4],\n",
        "              [5, 6, 0]])\n",
        "Y = np.array([[1,2,3],\n",
        "              [4,5,6],\n",
        "              [7,8,9]])\n",
        "\n",
        "print(\"addition\")\n",
        "Z_add=X+Y\n",
        "print(Z_add)\n",
        "print(\"substraction\")\n",
        "Z_subs=X-Y\n",
        "print(Z_subs)\n",
        "print(\"Multiplication\")\n",
        "Z_multi=X*Y\n",
        "print(Z_multi)\n",
        "print(\"dot product\")\n",
        "Z_dot_1=X@Y\n",
        "print(Z_dot_1)\n",
        "print(\"dot product\")\n",
        "Z_dot_2=np.dot(X,Y)\n",
        "print(Z_dot_2)\n",
        "print(\"Matriks Transpose\")\n",
        "Z_transpose=X.T\n",
        "print(Z_transpose)\n",
        "print(\"Matriks Inverse\")\n",
        "Z_inverse=np.linalg.inv(X)\n",
        "print(Z_inverse)\n",
        "print(\"Matriks Identitas\")\n",
        "I=X@X_inverse\n",
        "print(I)"
      ],
      "metadata": {
        "colab": {
          "base_uri": "https://localhost:8080/"
        },
        "id": "d3pL9Kd9gnn9",
        "outputId": "7e15af0c-05d9-4547-8d7e-39e76ecbc3fb"
      },
      "execution_count": 13,
      "outputs": [
        {
          "output_type": "stream",
          "name": "stdout",
          "text": [
            "addition\n",
            "[[ 2  4  6]\n",
            " [ 4  6 10]\n",
            " [12 14  9]]\n",
            "substraction\n",
            "[[ 0  0  0]\n",
            " [-4 -4 -2]\n",
            " [-2 -2 -9]]\n",
            "Multiplication\n",
            "[[ 1  4  9]\n",
            " [ 0  5 24]\n",
            " [35 48  0]]\n",
            "dot product\n",
            "[[30 36 42]\n",
            " [32 37 42]\n",
            " [29 40 51]]\n",
            "dot product\n",
            "[[30 36 42]\n",
            " [32 37 42]\n",
            " [29 40 51]]\n",
            "Matriks Transpose\n",
            "[[1 0 5]\n",
            " [2 1 6]\n",
            " [3 4 0]]\n",
            "Matriks Inverse\n",
            "[[-24.  18.   5.]\n",
            " [ 20. -15.  -4.]\n",
            " [ -5.   4.   1.]]\n",
            "Matriks Identitas\n",
            "[[ 1.00000000e+00 -2.66453526e-15  0.00000000e+00]\n",
            " [ 0.00000000e+00  1.00000000e+00  0.00000000e+00]\n",
            " [ 0.00000000e+00 -7.10542736e-15  1.00000000e+00]]\n"
          ]
        }
      ]
    },
    {
      "cell_type": "markdown",
      "source": [
        "**Bab 3: Indexing dan Slicing**"
      ],
      "metadata": {
        "id": "-t2fDdkZdrcr"
      }
    },
    {
      "cell_type": "markdown",
      "source": [
        "*3.1. Mengakses Elemen (Indexing)*"
      ],
      "metadata": {
        "id": "oF18NsGTdy2H"
      }
    },
    {
      "cell_type": "code",
      "source": [
        "import numpy as np\n",
        "\n",
        "# Array 1 Dimensi\n",
        "arr_1d = np.array([10, 11, 12, 13, 14])\n",
        "print(f\"Elemen ke-2 dari arr_1d: {arr_1d[1]}\") # Mengambil elemen kedua\n",
        "\n",
        "# Array 2 Dimensi (matriks)\n",
        "arr_2d = np.array([[1, 2, 3], [4, 5, 6], [7, 8, 9]])\n",
        "# Formatnya adalah array[baris, kolom]\n",
        "print(f\"Elemen pada baris 1, kolom 2 dari arr_2d: {arr_2d[0, 1]}\") # Mengambil angka 2"
      ],
      "metadata": {
        "colab": {
          "base_uri": "https://localhost:8080/"
        },
        "id": "6fjH3nxudiS-",
        "outputId": "29d7bcf6-015e-4e1e-fdd5-1825101cad5b"
      },
      "execution_count": 5,
      "outputs": [
        {
          "output_type": "stream",
          "name": "stdout",
          "text": [
            "Elemen ke-2 dari arr_1d: 11\n",
            "Elemen pada baris 1, kolom 2 dari arr_2d: 2\n"
          ]
        }
      ]
    },
    {
      "cell_type": "markdown",
      "source": [
        "*3.2. Mengambil Sebagian Elemen (Slicing)*"
      ],
      "metadata": {
        "id": "t9BSiU2oeDf1"
      }
    },
    {
      "cell_type": "code",
      "source": [
        "import numpy as np\n",
        "\n",
        "arr = np.arange(10) # Membuat array [0, 1, 2, 3, 4, 5, 6, 7, 8, 9]\n",
        "\n",
        "# Mengambil elemen dari indeks 2 hingga sebelum indeks 5\n",
        "print(f\"Slicing 1D: {arr[2:5]}\")\n",
        "\n",
        "# Mengambil sebagian dari array 2D\n",
        "arr_2d = np.array([[1, 2, 3], [4, 5, 6], [7, 8, 9]])\n",
        "\n",
        "# Mengambil 2 baris pertama dan 2 kolom pertama\n",
        "# Baris: 0 hingga sebelum 2. Kolom: 0 hingga sebelum 2.\n",
        "print(\"Slicing 2D:\\n\", arr_2d[0:2, 0:2])"
      ],
      "metadata": {
        "colab": {
          "base_uri": "https://localhost:8080/"
        },
        "id": "tcDHwWied9xd",
        "outputId": "507b7081-26ab-4ae5-d47b-b895283864df"
      },
      "execution_count": 6,
      "outputs": [
        {
          "output_type": "stream",
          "name": "stdout",
          "text": [
            "Slicing 1D: [2 3 4]\n",
            "Slicing 2D:\n",
            " [[1 2]\n",
            " [4 5]]\n"
          ]
        }
      ]
    },
    {
      "cell_type": "markdown",
      "source": [
        "*3.3. Boolean Indexing*"
      ],
      "metadata": {
        "id": "ZE4nBluveV_9"
      }
    },
    {
      "cell_type": "code",
      "source": [
        "import numpy as np\n",
        "\n",
        "data_nilai = np.array([50, 85, 92, 65, 78, 95])\n",
        "\n",
        "# Membuat kondisi boolean\n",
        "lulus = data_nilai > 75\n",
        "print(f\"Kondisi boolean (lulus > 75): {lulus}\")\n",
        "\n",
        "# Menggunakan kondisi tersebut untuk menyaring array asli\n",
        "print(f\"Nilai yang lulus: {data_nilai[lulus]}\")"
      ],
      "metadata": {
        "colab": {
          "base_uri": "https://localhost:8080/"
        },
        "id": "8JgZdvm8eI1l",
        "outputId": "a58638c0-04b6-46cf-f231-c5ef488b01ab"
      },
      "execution_count": 7,
      "outputs": [
        {
          "output_type": "stream",
          "name": "stdout",
          "text": [
            "Kondisi boolean (lulus > 75): [False  True  True False  True  True]\n",
            "Nilai yang lulus: [85 92 78 95]\n"
          ]
        }
      ]
    },
    {
      "cell_type": "markdown",
      "source": [
        "**Bab 4: Atribut dan Manipulasi Bentuk Array**"
      ],
      "metadata": {
        "id": "jA6paiLYe0UK"
      }
    },
    {
      "cell_type": "markdown",
      "source": [
        "*4.1. Mengetahui Atribut Array*"
      ],
      "metadata": {
        "id": "m2m_pkKme_eK"
      }
    },
    {
      "cell_type": "code",
      "source": [
        "import numpy as np\n",
        "\n",
        "arr_2d = np.array([[1, 2, 3, 4], [5, 6, 7, 8]])\n",
        "\n",
        "# .ndim: Mengetahui jumlah dimensi\n",
        "print(f\"Jumlah dimensi: {arr_2d.ndim}\")\n",
        "\n",
        "# .shape: Mengetahui bentuk array (jumlah baris, jumlah kolom)\n",
        "print(f\"Bentuk array: {arr_2d.shape}\")\n",
        "\n",
        "# .size: Mengetahui total elemen dalam array\n",
        "print(f\"Total elemen: {arr_2d.size}\")\n",
        "\n",
        "# .dtype: Mengetahui tipe data elemen di dalam array\n",
        "print(f\"Tipe data elemen: {arr_2d.dtype}\")"
      ],
      "metadata": {
        "colab": {
          "base_uri": "https://localhost:8080/"
        },
        "id": "mi6WQxONeb5Y",
        "outputId": "1004a36e-122e-405b-e708-5b3faca0db59"
      },
      "execution_count": 8,
      "outputs": [
        {
          "output_type": "stream",
          "name": "stdout",
          "text": [
            "Jumlah dimensi: 2\n",
            "Bentuk array: (2, 4)\n",
            "Total elemen: 8\n",
            "Tipe data elemen: int64\n"
          ]
        }
      ]
    },
    {
      "cell_type": "markdown",
      "source": [
        "*4.2. Mengubah Bentuk Array (.reshape)*"
      ],
      "metadata": {
        "id": "RoLhBBsAfJ_v"
      }
    },
    {
      "cell_type": "code",
      "source": [
        "import numpy as np\n",
        "\n",
        "# Array 1D dengan 12 elemen (0 sampai 11)\n",
        "arr = np.arange(12)\n",
        "print(f\"Array asli (1D): {arr}\")\n",
        "\n",
        "# Mengubah bentuknya menjadi matriks 3 baris dan 4 kolom\n",
        "arr_reshaped = arr.reshape(3, 4)\n",
        "print(\"Array setelah di-reshape (3, 4):\\n\", arr_reshaped)"
      ],
      "metadata": {
        "colab": {
          "base_uri": "https://localhost:8080/"
        },
        "id": "4Pvt61UvfERO",
        "outputId": "8615c397-8d14-4d29-f1ff-2832213b2af7"
      },
      "execution_count": 9,
      "outputs": [
        {
          "output_type": "stream",
          "name": "stdout",
          "text": [
            "Array asli (1D): [ 0  1  2  3  4  5  6  7  8  9 10 11]\n",
            "Array setelah di-reshape (3, 4):\n",
            " [[ 0  1  2  3]\n",
            " [ 4  5  6  7]\n",
            " [ 8  9 10 11]]\n"
          ]
        }
      ]
    },
    {
      "cell_type": "markdown",
      "source": [
        "**Bab 5: Perhitungan Statistik Dasar**"
      ],
      "metadata": {
        "id": "uXIFb7LPfiKs"
      }
    },
    {
      "cell_type": "code",
      "source": [
        "import numpy as np\n",
        "\n",
        "data_nilai = np.array([50, 85, 92, 65, 78, 95])\n",
        "data_jam_belajar = np.array([3, 8, 9, 4, 6, 10])\n",
        "\n",
        "# Menghitung nilai rata-rata (mean)\n",
        "print(f\"Rata-rata: {np.mean(data_nilai)}\")\n",
        "\n",
        "# Menghitung median (nilai tengah)\n",
        "print(f\"Median dari data nilai: {np.median(data_nilai)}\")\n",
        "\n",
        "#atau bisa menggunakan percentile\n",
        "print(f\"Median(Percentile) dari data nilai: {np.percentile(data_nilai, 50)}\")\n",
        "\n",
        "# Menggabungkan kedua set data menjadi satu array 2D\n",
        "# Setiap baris adalah pengamatan, setiap kolom adalah variabel\n",
        "data_gabungan = np.vstack((data_nilai, data_jam_belajar)).T\n",
        "\n",
        "print(\"Data Gabungan (Nilai vs Jam Belajar):\\n\", data_gabungan)\n",
        "\n",
        "# Menghitung matriks korelasi, untuk mengukur seberapa kuat hubungan linear antara dua set data\n",
        "print(f\"Matriks Korelasi: {np.corrcoef(data_gabungan.T)}\") # Transpose diperlukan karena np.corrcoef mengharapkan variabel sebagai baris\n",
        "\n",
        "# Menghitung matriks kovarians, mengukur bagaimana dua variabel berubah bersama-sama.\n",
        "#Jika positif, mereka cenderung bergerak ke arah yang sama.\n",
        "#Jika negatif, mereka bergerak ke arah yang berlawanan.\n",
        "print(f\"Matriks Kovarians: {np.cov(data_jam_belajar, data_nilai)}\")\n",
        "\n",
        "# Menjumlahkan semua nilai\n",
        "print(f\"Jumlah: {np.sum(data_nilai)}\")\n",
        "\n",
        "# Mencari nilai tertinggi\n",
        "print(f\"Nilai Maksimum: {np.max(data_nilai)}\")\n",
        "\n",
        "# Mencari nilai terendah\n",
        "print(f\"Nilai Minimum: {np.min(data_nilai)}\")\n",
        "\n",
        "# Menghitung standar deviasi\n",
        "print(f\"Standar Deviasi: {np.std(data_nilai)}\")\n",
        "\n",
        "# Menghitung varians dari data\n",
        "print(f\"Nilai Varians: {np.var(data_nilai)}\")"
      ],
      "metadata": {
        "colab": {
          "base_uri": "https://localhost:8080/"
        },
        "id": "iLiq5yRTfRt_",
        "outputId": "f149bec0-8f93-4890-a551-419c966f088b"
      },
      "execution_count": 17,
      "outputs": [
        {
          "output_type": "stream",
          "name": "stdout",
          "text": [
            "Rata-rata: 77.5\n",
            "Median dari data nilai: 81.5\n",
            "Median(Percentile) dari data nilai: 81.5\n",
            "Data Gabungan (Nilai vs Jam Belajar):\n",
            " [[50  3]\n",
            " [85  8]\n",
            " [92  9]\n",
            " [65  4]\n",
            " [78  6]\n",
            " [95 10]]\n",
            "Matriks Korelasi: [[1.       0.976327]\n",
            " [0.976327 1.      ]]\n",
            "Matriks Kovarians: [[  7.86666667  47.2       ]\n",
            " [ 47.2        297.1       ]]\n",
            "Jumlah: 465\n",
            "Nilai Maksimum: 95\n",
            "Nilai Minimum: 50\n",
            "Standar Deviasi: 15.73478100684383\n",
            "Nilai Varians: 247.58333333333334\n"
          ]
        }
      ]
    },
    {
      "cell_type": "markdown",
      "source": [
        "**Bab 6: Studi Kasus: Contoh Latihan dengan Jawaban**"
      ],
      "metadata": {
        "id": "y0ikb7GggDUT"
      }
    },
    {
      "cell_type": "markdown",
      "source": [
        "*Soal #1: Analisis Data Penjualan*\n",
        "\n",
        "Buatlah sebuah array NumPy yang merepresentasikan data penjualan harian (dalam ribu Rupiah) sebuah toko selama seminggu: [150, 200, 180, 220, 250, 300, 280]. Hitunglah total penjualan selama seminggu, rata-rata penjualan harian, dan penjualan tertinggi yang terjadi."
      ],
      "metadata": {
        "id": "c-JNSZGGgS2a"
      }
    },
    {
      "cell_type": "code",
      "source": [
        "import numpy as np\n",
        "\n",
        "# 1. Membuat array data penjualan\n",
        "penjualan = np.array([150, 200, 180, 220, 250, 300, 280])\n",
        "\n",
        "# 2. Menghitung statistik\n",
        "total = np.sum(penjualan)\n",
        "rata_rata = np.mean(penjualan)\n",
        "tertinggi = np.max(penjualan)\n",
        "\n",
        "print(f\"Total Penjualan: Rp{total} ribu\")\n",
        "print(f\"Rata-rata Penjualan: Rp{rata_rata:.2f} ribu\")\n",
        "print(f\"Penjualan Tertinggi: Rp{tertinggi} ribu\")"
      ],
      "metadata": {
        "colab": {
          "base_uri": "https://localhost:8080/"
        },
        "id": "HGa31hRgfsio",
        "outputId": "d726eb1c-5776-4b23-bc97-8330b31ee9bf"
      },
      "execution_count": 11,
      "outputs": [
        {
          "output_type": "stream",
          "name": "stdout",
          "text": [
            "Total Penjualan: Rp1580 ribu\n",
            "Rata-rata Penjualan: Rp225.71 ribu\n",
            "Penjualan Tertinggi: Rp300 ribu\n"
          ]
        }
      ]
    },
    {
      "cell_type": "markdown",
      "source": [
        "*Soal #2: Konversi Suhu Sensor*\n",
        "\n",
        "Anda memiliki data suhu dari sebuah sensor dalam Celcius: [25.5, 26.1, -99.0, 27.2, 24.9, -99.0]. Nilai -99.0 adalah data error. Saring data untuk membuang nilai error, lalu konversi semua suhu yang valid ke Fahrenheit. Rumus: F=C\n",
        "times\n",
        "frac95+32."
      ],
      "metadata": {
        "id": "lk-W9Bazgx7w"
      }
    },
    {
      "cell_type": "code",
      "source": [
        "import numpy as np\n",
        "\n",
        "# 1. Membuat array data suhu\n",
        "suhu_celcius = np.array([25.5, 26.1, -99.0, 27.2, 24.9, -99.0])\n",
        "\n",
        "# 2. Menyaring data error menggunakan boolean indexing\n",
        "suhu_valid = suhu_celcius[suhu_celcius > 0]\n",
        "print(f\"Suhu valid (Celcius): {suhu_valid}\")\n",
        "\n",
        "# 3. Mengonversi suhu valid ke Fahrenheit (vectorization)\n",
        "suhu_fahrenheit = suhu_valid * (9/5) + 32\n",
        "\n",
        "print(f\"Suhu dalam Fahrenheit: {np.round(suhu_fahrenheit, 2)}\")"
      ],
      "metadata": {
        "colab": {
          "base_uri": "https://localhost:8080/"
        },
        "id": "0dZubSrygmbX",
        "outputId": "1e5ed9a5-78b8-4ff7-ffce-1ab9a93d20f9"
      },
      "execution_count": 12,
      "outputs": [
        {
          "output_type": "stream",
          "name": "stdout",
          "text": [
            "Suhu valid (Celcius): [25.5 26.1 27.2 24.9]\n",
            "Suhu dalam Fahrenheit: [77.9  78.98 80.96 76.82]\n"
          ]
        }
      ]
    },
    {
      "cell_type": "markdown",
      "source": [
        "**Bab 7: Latihan Mandiri**"
      ],
      "metadata": {
        "id": "nHeoHnIXhGse"
      }
    },
    {
      "cell_type": "markdown",
      "source": [
        "*Studi Kasus: Diskon Harga*\n",
        "\n",
        "Anda memiliki daftar harga beberapa barang dalam sebuah array NumPy: [50000, 120000, 75000, 250000, 95000]. Toko sedang mengadakan diskon sebesar 15%. Buatlah array baru yang berisi harga setelah diskon.\n",
        "\n",
        "Tugas:\n",
        "\n",
        "- Buat array NumPy untuk daftar harga tersebut.\n",
        "\n",
        "- Hitung harga setelah diskon 15% untuk semua barang menggunakan operasi vectorization.\n",
        "\n",
        "- Tampilkan array harga akhir."
      ],
      "metadata": {
        "id": "z9y5ivVuhMO1"
      }
    },
    {
      "cell_type": "code",
      "source": [],
      "metadata": {
        "id": "3wLHyoUrg8Hf"
      },
      "execution_count": null,
      "outputs": []
    }
  ]
}