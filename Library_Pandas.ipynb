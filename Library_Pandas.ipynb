{
  "nbformat": 4,
  "nbformat_minor": 0,
  "metadata": {
    "colab": {
      "provenance": []
    },
    "kernelspec": {
      "name": "python3",
      "display_name": "Python 3"
    },
    "language_info": {
      "name": "python"
    }
  },
  "cells": [
    {
      "cell_type": "markdown",
      "source": [
        "**Library Pandas: Definisi dan Fungsi Utama**"
      ],
      "metadata": {
        "id": "Abwv4lMwezno"
      }
    },
    {
      "cell_type": "markdown",
      "source": [
        "**Pandas** adalah sebuah library perangkat lunak untuk bahasa pemrograman Python yang menyediakan struktur data dan alat analisis data yang efisien dan mudah digunakan. Library ini didesain secara spesifik untuk memfasilitasi proses manipulasi dan analisis data terstruktur, seperti data berbentuk tabel.\n",
        "\n",
        "Fungsi utama dari library Pandas dapat diklasifikasikan sebagai berikut:\n",
        "\n",
        "1. **Akuisisi dan Penyimpanan Data**: Membaca data dari berbagai format file, seperti CSV dan Excel, serta menulis DataFrame kembali ke dalam format tersebut.\n",
        "\n",
        "2. **Pembersihan Data**: Menyediakan metode untuk menangani data yang tidak lengkap (missing values), data duplikat, serta inkonsistensi lainnya.\n",
        "\n",
        "3. **Manipulasi dan Transformasi Data**: Melakukan operasi-operasi seperti pemilihan (selection), penyaringan (filtering), pengurutan (sorting), penggabungan (merging/joining), dan perubahan bentuk (reshaping) data.\n",
        "\n",
        "4. **Analisis dan Agregasi Data**: Melakukan perhitungan statistik deskriptif, mengelompokkan data berdasarkan kategori tertentu (groupby), dan melakukan agregasi untuk menghasilkan ringkasan data yang informatif."
      ],
      "metadata": {
        "id": "8wpsOdkXdzzb"
      }
    },
    {
      "cell_type": "markdown",
      "source": [
        "**BAB 1: Membuat dan Memuat Data (DataFrame)**\n",
        "\n",
        "\n",
        "\n"
      ],
      "metadata": {
        "id": "KgsahrbX7mwa"
      }
    },
    {
      "cell_type": "markdown",
      "source": [
        "*1.1. Membuat DataFrame dari Awal*"
      ],
      "metadata": {
        "id": "d3Y17yCI-KeJ"
      }
    },
    {
      "cell_type": "code",
      "execution_count": 3,
      "metadata": {
        "colab": {
          "base_uri": "https://localhost:8080/"
        },
        "id": "A5rmDbb_5XFx",
        "outputId": "3ae39ebc-bee4-4015-91c9-9ca43d6ebdbc"
      },
      "outputs": [
        {
          "output_type": "stream",
          "name": "stdout",
          "text": [
            "====Tabel Mahasiswa====\n",
            "    Nama        Prodi  Nilai Review\n",
            "0    Ali  Informatika     90     A-\n",
            "1   Budi   Matematika     80      B\n",
            "2   Siti      Biologi     85    A/B\n",
            "3  Putri        Kimia     95      A\n",
            "\n",
            "\n"
          ]
        }
      ],
      "source": [
        "#Langkah 1, import library pandas yang akan digunakan untuk membuat sebuah tabel dari data\n",
        "import pandas as pd\n",
        "\n",
        "#Langkah 2, buat sebuah data buatan terserah kalian, atau bisa kalian import data dari kaggle\n",
        "#Contohnya disini saya membuat data mahasiswa sederhana yang berisi nama, prodi, nilai, dan review\n",
        "data = {\n",
        "    'Nama' : ['Ali', 'Budi', 'Siti', 'Putri'],\n",
        "    'Prodi' : ['Informatika', 'Matematika', 'Biologi', 'Kimia'],\n",
        "    'Nilai' : [90, 80, 85, 95],\n",
        "    'Review' : ['A-', 'B', 'A/B', 'A']\n",
        "}\n",
        "\n",
        "#Langkah 3, Mengubah data menjadi tabel (DataFrame) yang terstruktur\n",
        "#pd.DataFrame() merupakan instruksi yang digunakan untuk membuat sebuah tabel(baris dan kolom) dari library pandas yang sdh diimport diawal\n",
        "df = pd.DataFrame(data)\n",
        "\n",
        "#Langkah 4, menampilkan tabel yang sudah dibuat\n",
        "print('====Tabel Mahasiswa====')\n",
        "print(df)\n"
      ]
    },
    {
      "cell_type": "markdown",
      "source": [
        "*1.2. Memuat Data dari Berbagai Sumber (Gathering Data)*"
      ],
      "metadata": {
        "id": "d1PbfVhxD--J"
      }
    },
    {
      "cell_type": "code",
      "source": [
        "#Format Berkas CSV\n",
        "df = pd.read_csv(\"data.csv\", delimiter=\",\")\n",
        "\n",
        "#Format Berkas XLXS atau XLS\n",
        "df = pd.read_excel(\"data.xlsx\", sheet_name=\"Sheet1\")\n",
        "\n",
        "#Format Berkas JSON\n",
        "df = pd.read_json(\"data.json\")\n",
        "\n",
        "#Format Berkas HTML\n",
        "url = \"https://www.fdic.gov/resources/resolutions/bank-failures/failed-bank-list\"\n",
        "df = pd.read_html(url)[0]\n",
        "\n",
        "#Format XML\n",
        "df = pd.read_xml(\"https://www.w3schools.com/xml/books.xml\")\n",
        "\n",
        "#Akses data dari SQL Database\n",
        "#.read_sql_table()untuk membaca SQL database table dan mempresentasikannya ke dalam bentuk pandas DataFrame\n",
        "#untuk mengakses database tersebut kita membutuhkan library pendukung yaitu SQLAlchemy\n",
        "import sqlalchemy as sqla\n",
        "\n",
        "db = sqla.create_engine(\"sqlite:///mydata.sqlite\")\n",
        "pd.read_sql_table(\"table_name\", db)\n",
        "\n",
        "#.read_sql_query()untuk membaca SQL query dan mempresentasikannya ke dalam bentuk pandas DataFrame\n",
        "pd.read_sql_query(\"SELECT * FROM table_name\", db)\n",
        "\n",
        "#.read_sql()untuk membaca SQL query atau table dan mempresentasikannya ke dalam bentuk pandas DataFrame\n",
        "pd.read_sql(\"SELECT * FROM table_name\", db)"
      ],
      "metadata": {
        "id": "EGjGm3fr-aUn"
      },
      "execution_count": null,
      "outputs": []
    },
    {
      "cell_type": "markdown",
      "source": [
        "**Bab 2: Menggabungkan DataFrames**"
      ],
      "metadata": {
        "id": "ffjd62RNSpSp"
      }
    },
    {
      "cell_type": "code",
      "source": [
        "import pandas as pd\n",
        "\n",
        "# Tabel data mahasiswa\n",
        "mahasiswa_df = pd.DataFrame({\n",
        "    'id_mahasiswa': [1, 2, 3, 4],\n",
        "    'nama': ['Ali', 'Budi', 'Citra', 'Siti']\n",
        "})\n",
        "\n",
        "# Tabel data nilai\n",
        "nilai_df = pd.DataFrame({\n",
        "    'id_mahasiswa': [1, 2, 3, 5],\n",
        "    'mata_kuliah': ['Matematika', 'Fisika', 'Biologi', 'Kimia'],\n",
        "    'nilai': [85, 90, 88, 92]\n",
        "})"
      ],
      "metadata": {
        "id": "HiidgVXPSx08"
      },
      "execution_count": 1,
      "outputs": []
    },
    {
      "cell_type": "markdown",
      "source": [
        "*2.1 Inner Join*"
      ],
      "metadata": {
        "id": "YHGEie7EaAQJ"
      }
    },
    {
      "cell_type": "code",
      "source": [
        "# Inner Join\n",
        "inner_join_df = pd.merge(left=mahasiswa_df, right=nilai_df, how='inner', on='id_mahasiswa')\n",
        "print(\"--- INNER JOIN ---\")\n",
        "print(inner_join_df)"
      ],
      "metadata": {
        "id": "GEs4vtQcZgvx",
        "colab": {
          "base_uri": "https://localhost:8080/"
        },
        "outputId": "fa73446e-9754-436d-b9a5-d8ae7ed0f442"
      },
      "execution_count": 2,
      "outputs": [
        {
          "output_type": "stream",
          "name": "stdout",
          "text": [
            "--- INNER JOIN ---\n",
            "   id_mahasiswa   nama mata_kuliah  nilai\n",
            "0             1    Ali  Matematika     85\n",
            "1             2   Budi      Fisika     90\n",
            "2             3  Citra     Biologi     88\n"
          ]
        }
      ]
    },
    {
      "cell_type": "markdown",
      "source": [
        "*2.2 Left Join*"
      ],
      "metadata": {
        "id": "5VMZ58wIaEyK"
      }
    },
    {
      "cell_type": "code",
      "source": [
        "# Left Join\n",
        "left_join_df = pd.merge(left=mahasiswa_df, right=nilai_df, how='left', on='id_mahasiswa')\n",
        "print(\"\\n--- LEFT JOIN ---\")\n",
        "print(left_join_df)"
      ],
      "metadata": {
        "id": "gbsxRiuCZktI",
        "colab": {
          "base_uri": "https://localhost:8080/"
        },
        "outputId": "be63937d-97bd-49b2-ec82-f79739ea97fc"
      },
      "execution_count": 3,
      "outputs": [
        {
          "output_type": "stream",
          "name": "stdout",
          "text": [
            "\n",
            "--- LEFT JOIN ---\n",
            "   id_mahasiswa   nama mata_kuliah  nilai\n",
            "0             1    Ali  Matematika   85.0\n",
            "1             2   Budi      Fisika   90.0\n",
            "2             3  Citra     Biologi   88.0\n",
            "3             4   Siti         NaN    NaN\n"
          ]
        }
      ]
    },
    {
      "cell_type": "markdown",
      "source": [
        "*2.3 Right Join*"
      ],
      "metadata": {
        "id": "iP5-DuQ7aL8b"
      }
    },
    {
      "cell_type": "code",
      "source": [
        "# Right Join\n",
        "right_join_df = pd.merge(left=mahasiswa_df, right=nilai_df, how='right', on='id_mahasiswa')\n",
        "print(\"\\n--- RIGHT JOIN ---\")\n",
        "print(right_join_df)"
      ],
      "metadata": {
        "id": "G2VQhpXeZowQ",
        "colab": {
          "base_uri": "https://localhost:8080/"
        },
        "outputId": "1e09f73e-cd9b-4c3f-8a65-4fe1b5d195c8"
      },
      "execution_count": 4,
      "outputs": [
        {
          "output_type": "stream",
          "name": "stdout",
          "text": [
            "\n",
            "--- RIGHT JOIN ---\n",
            "   id_mahasiswa   nama mata_kuliah  nilai\n",
            "0             1    Ali  Matematika     85\n",
            "1             2   Budi      Fisika     90\n",
            "2             3  Citra     Biologi     88\n",
            "3             5    NaN       Kimia     92\n"
          ]
        }
      ]
    },
    {
      "cell_type": "markdown",
      "source": [
        "*2.4 Outer Join*"
      ],
      "metadata": {
        "id": "HIGlOdiwaQAA"
      }
    },
    {
      "cell_type": "code",
      "source": [
        "# Outer Join\n",
        "outer_join_df = pd.merge(left=mahasiswa_df, right=nilai_df, how='outer', on='id_mahasiswa')\n",
        "print(\"\\n--- OUTER JOIN ---\")\n",
        "print(outer_join_df)"
      ],
      "metadata": {
        "id": "rEngnVMMZp1a",
        "colab": {
          "base_uri": "https://localhost:8080/"
        },
        "outputId": "26c16ff7-153f-4139-8704-5ed31319e4e4"
      },
      "execution_count": 5,
      "outputs": [
        {
          "output_type": "stream",
          "name": "stdout",
          "text": [
            "\n",
            "--- OUTER JOIN ---\n",
            "   id_mahasiswa   nama mata_kuliah  nilai\n",
            "0             1    Ali  Matematika   85.0\n",
            "1             2   Budi      Fisika   90.0\n",
            "2             3  Citra     Biologi   88.0\n",
            "3             4   Siti         NaN    NaN\n",
            "4             5    NaN       Kimia   92.0\n"
          ]
        }
      ]
    },
    {
      "cell_type": "markdown",
      "source": [
        "**BAB 3: Inspeksi & Eksplorasi Awal (Assessing Data)**"
      ],
      "metadata": {
        "id": "nzSYVouf-uTb"
      }
    },
    {
      "cell_type": "markdown",
      "source": [
        "*3.1. Pratinjau Data*"
      ],
      "metadata": {
        "id": "Z_hwJbxy-7Pg"
      }
    },
    {
      "cell_type": "code",
      "source": [
        "#Melihat 5 baris pertama menggunakan perintah .head()\n",
        "print('====5 Baris Pertama====') #karena data kita hanya mempunyai 4 baris, jadi semua data akan tampil\n",
        "print(df.head())\n",
        "print('\\n')\n",
        "\n",
        "#Melihat 5 baris terakhir\n",
        "print('====5 Baris Terakhir====')\n",
        "print(df.tail())\n",
        "print('\\n')\n",
        "\n",
        "#random sample\n",
        "print('====Random Sample====')\n",
        "print(df.sample(3))\n",
        "print('\\n')"
      ],
      "metadata": {
        "id": "QMl4So-1-qud",
        "colab": {
          "base_uri": "https://localhost:8080/"
        },
        "outputId": "81de29bb-5bfe-4bc2-8121-9d6b500f837f"
      },
      "execution_count": 8,
      "outputs": [
        {
          "output_type": "stream",
          "name": "stdout",
          "text": [
            "====5 Baris Pertama====\n",
            "    Nama        Prodi  Nilai Review\n",
            "0    Ali  Informatika     90     A-\n",
            "1   Budi   Matematika     80      B\n",
            "2   Siti      Biologi     85    A/B\n",
            "3  Putri        Kimia     95      A\n",
            "\n",
            "\n",
            "====5 Baris Terakhir====\n",
            "    Nama        Prodi  Nilai Review\n",
            "0    Ali  Informatika     90     A-\n",
            "1   Budi   Matematika     80      B\n",
            "2   Siti      Biologi     85    A/B\n",
            "3  Putri        Kimia     95      A\n",
            "\n",
            "\n",
            "====Random Sample====\n",
            "    Nama        Prodi  Nilai Review\n",
            "1   Budi   Matematika     80      B\n",
            "3  Putri        Kimia     95      A\n",
            "0    Ali  Informatika     90     A-\n",
            "\n",
            "\n"
          ]
        }
      ]
    },
    {
      "cell_type": "markdown",
      "source": [
        "*3.2. Memahami Struktur & Tipe Data*"
      ],
      "metadata": {
        "id": "VTnVe6Kl_L_I"
      }
    },
    {
      "cell_type": "code",
      "source": [
        "#Melihat ukuran tabel (baris dan kolom) menggunakan .shape\n",
        "print('====Ukuran Tabel====')\n",
        "print(df.shape)\n",
        "print('\\n')\n",
        "\n",
        "#Coloumn names\n",
        "print(df.columns)\n",
        "\n",
        "#.info() adalah perintah yang digunakan untuk melihat tipe data per kolom\n",
        "print('====Informasi DataFrame====')\n",
        "print(df.info())\n",
        "print('\\n')\n",
        "\n",
        "#Melihat Ringkasan Statistik untuk kolom numerik dengan .describe()\n",
        "print('====Ringkasan Statistik====')\n",
        "print(df.describe())\n",
        "print(\"\\n\")"
      ],
      "metadata": {
        "id": "-bTmitmM_NbO",
        "colab": {
          "base_uri": "https://localhost:8080/"
        },
        "outputId": "bacd09d9-b8e8-4def-9217-388c38efad34"
      },
      "execution_count": 10,
      "outputs": [
        {
          "output_type": "stream",
          "name": "stdout",
          "text": [
            "====Ukuran Tabel====\n",
            "(4, 4)\n",
            "\n",
            "\n",
            "Index(['Nama', 'Prodi', 'Nilai', 'Review'], dtype='object')\n",
            "====Informasi DataFrame====\n",
            "<class 'pandas.core.frame.DataFrame'>\n",
            "RangeIndex: 4 entries, 0 to 3\n",
            "Data columns (total 4 columns):\n",
            " #   Column  Non-Null Count  Dtype \n",
            "---  ------  --------------  ----- \n",
            " 0   Nama    4 non-null      object\n",
            " 1   Prodi   4 non-null      object\n",
            " 2   Nilai   4 non-null      int64 \n",
            " 3   Review  4 non-null      object\n",
            "dtypes: int64(1), object(3)\n",
            "memory usage: 260.0+ bytes\n",
            "None\n",
            "\n",
            "\n",
            "====Ringkasan Statistik====\n",
            "           Nilai\n",
            "count   4.000000\n",
            "mean   87.500000\n",
            "std     6.454972\n",
            "min    80.000000\n",
            "25%    83.750000\n",
            "50%    87.500000\n",
            "75%    91.250000\n",
            "max    95.000000\n",
            "\n",
            "\n"
          ]
        }
      ]
    },
    {
      "cell_type": "markdown",
      "source": [
        "*3.3. Pengecekan Awal Kualitas Data (Assessing Data)*"
      ],
      "metadata": {
        "id": "bGpKnM67_kCa"
      }
    },
    {
      "cell_type": "code",
      "source": [
        "#Mengecek nilai yang hilang (missing value) di setiap kolom\n",
        "print('====Missing Value====')\n",
        "sales_df = pd.read_csv(\"https://raw.githubusercontent.com/dicodingacademy/dicoding_dataset/main/DicodingCollection/sales.csv\")\n",
        "print(sales_df.isnull().sum()) #/ df.isna().sum()\n",
        "print(sales_df[sales_df.total_price.isnull()])\n",
        "print(\"\\n\")\n",
        "\n",
        "# Menghitung jumlah baris duplikat\n",
        "print('====Jumlah Baris Duplikat====')\n",
        "products_df = pd.read_csv(\"https://raw.githubusercontent.com/dicodingacademy/dicoding_dataset/main/DicodingCollection/products.csv\")\n",
        "print(products_df.duplicated().sum())\n",
        "print(products_df[products_df.duplicated()])"
      ],
      "metadata": {
        "colab": {
          "base_uri": "https://localhost:8080/"
        },
        "id": "F4OrA7nJJZxX",
        "outputId": "2374d014-35da-408c-acd3-df903ff1788a"
      },
      "execution_count": 11,
      "outputs": [
        {
          "output_type": "stream",
          "name": "stdout",
          "text": [
            "====Missing Value====\n",
            "sales_id           0\n",
            "order_id           0\n",
            "product_id         0\n",
            "price_per_unit     0\n",
            "quantity           0\n",
            "total_price       19\n",
            "dtype: int64\n",
            "      sales_id  order_id  product_id  price_per_unit  quantity  total_price\n",
            "9            9         2        1196             105         1          NaN\n",
            "121        121        27        1027              90         3          NaN\n",
            "278        278        63         360              94         2          NaN\n",
            "421        421        95        1091             115         1          NaN\n",
            "489        489       108        1193             105         3          NaN\n",
            "539        539       117         405             119         2          NaN\n",
            "636        636       134         653              93         3          NaN\n",
            "687        687       145        1138             102         1          NaN\n",
            "854        854       177          64             104         1          NaN\n",
            "1079      1079       222         908              94         3          NaN\n",
            "1193      1193       248        1121             102         2          NaN\n",
            "1313      1313       272         826             117         1          NaN\n",
            "1548      1548       316         103             118         3          NaN\n",
            "1688      1688       345         428             107         1          NaN\n",
            "1775      1775       359         694             113         2          NaN\n",
            "1902      1902       381        1218             105         3          NaN\n",
            "2025      2025       408         611             112         3          NaN\n",
            "2164      2164       436         583             100         3          NaN\n",
            "2347      2347       476         696             113         2          NaN\n",
            "\n",
            "\n",
            "====Jumlah Baris Duplikat====\n",
            "6\n",
            "     product_id product_type product_name size  colour  price  quantity  \\\n",
            "112          54        Shirt        Dress   XL   green    119        52   \n",
            "232         146        Shirt        Linen    S  orange    116        42   \n",
            "365         146        Shirt        Linen    S  orange    116        42   \n",
            "435         377        Shirt       Henley    M  indigo     92        70   \n",
            "540         483       Jacket       Puffer    L  indigo    110        61   \n",
            "587         579       Jacket       Bomber   XL   green     90        79   \n",
            "\n",
            "                                   description  \n",
            "112    A green coloured, XL sized, Dress Shirt  \n",
            "232    A orange coloured, S sized, Linen Shirt  \n",
            "365    A orange coloured, S sized, Linen Shirt  \n",
            "435   A indigo coloured, M sized, Henley Shirt  \n",
            "540  A indigo coloured, L sized, Puffer Jacket  \n",
            "587  A green coloured, XL sized, Bomber Jacket  \n"
          ]
        }
      ]
    },
    {
      "cell_type": "markdown",
      "source": [
        "**Bab 4: Manipulasi Data (Seleksi, Pengurutan, dan Transformasi)**"
      ],
      "metadata": {
        "id": "8KRyXMl2JbuY"
      }
    },
    {
      "cell_type": "markdown",
      "source": [
        "*4.1. Seleksi Data (Indexing & Slicing)*"
      ],
      "metadata": {
        "id": "OKyzPpQSKL7W"
      }
    },
    {
      "cell_type": "code",
      "source": [
        "# Memilih satu kolom\n",
        "nama_mahasiswa = df['Nama']\n",
        "print(nama_mahasiswa)\n",
        "\n",
        "# Memilih beberapa kolom\n",
        "prodi_dan_nilai = df[['Prodi', 'Nilai']]\n",
        "print(prodi_dan_nilai)\n",
        "\n",
        "# Menampilkan data mahasiswa yang nilainya di atas 85\n",
        "mahasiswa_pintar = df[df['Nilai'] > 85]\n",
        "print(mahasiswa_pintar)\n",
        "\n",
        "# Menambah kolom 'Status' berdasarkan nilai\n",
        "df['Status'] = ['Lulus' if nilai >= 85 else 'Mengulang' for nilai in df['Nilai']]\n",
        "print(df)\n",
        "\n",
        "#Memilih baris berdasarkan label/kondisi (.loc)\n",
        "df.loc[0] # Baris dengan indeks 0\n",
        "print(df.loc[df['Nilai'] > 85]) # Baris dimana nilai > 85\n",
        "\n",
        "# Memilih baris/kolom berdasarkan posisi angka (.iloc)\n",
        "print(df.iloc[0, 1]) # Data pada baris ke-0, kolom ke-1"
      ],
      "metadata": {
        "id": "TKJU474dKmIn",
        "colab": {
          "base_uri": "https://localhost:8080/"
        },
        "outputId": "dac776cb-965e-46cc-d67a-9d793d21c9a4"
      },
      "execution_count": 13,
      "outputs": [
        {
          "output_type": "stream",
          "name": "stdout",
          "text": [
            "0      Ali\n",
            "1     Budi\n",
            "2     Siti\n",
            "3    Putri\n",
            "Name: Nama, dtype: object\n",
            "         Prodi  Nilai\n",
            "0  Informatika     90\n",
            "1   Matematika     80\n",
            "2      Biologi     85\n",
            "3        Kimia     95\n",
            "    Nama        Prodi  Nilai Review\n",
            "0    Ali  Informatika     90     A-\n",
            "3  Putri        Kimia     95      A\n",
            "    Nama        Prodi  Nilai Review     Status\n",
            "0    Ali  Informatika     90     A-      Lulus\n",
            "1   Budi   Matematika     80      B  Mengulang\n",
            "2   Siti      Biologi     85    A/B      Lulus\n",
            "3  Putri        Kimia     95      A      Lulus\n",
            "    Nama        Prodi  Nilai Review Status\n",
            "0    Ali  Informatika     90     A-  Lulus\n",
            "3  Putri        Kimia     95      A  Lulus\n",
            "Informatika\n"
          ]
        }
      ]
    },
    {
      "cell_type": "markdown",
      "source": [
        "*4.2. Mengurutkan Data*"
      ],
      "metadata": {
        "id": "2WAIR-Y3Ks5f"
      }
    },
    {
      "cell_type": "code",
      "source": [
        "# Mengurutkan mahasiswa berdasarkan nilai tertinggi\n",
        "df_sorted_highest = df.sort_values(by='Nilai', ascending=False)\n",
        "print(df_sorted_highest)\n",
        "\n",
        "# Menampilkan tabel yang sudah diurutkan\n",
        "print('====Tabel Mahasiswa Diurutkan Berdasarkan Nilai Terendah====')\n",
        "print(df_sorted_highest)\n",
        "\n",
        "# Mengurutkan mahasiswa berdasarkan nilai terendah\n",
        "df_sorted_lowest = df.sort_values(by='Nilai', ascending=True)\n",
        "\n",
        "# Menampilkan tabel yang sudah diurutkan\n",
        "print('====Tabel Mahasiswa Diurutkan Berdasarkan Nilai Terendah====')\n",
        "print(df_sorted_lowest)\n"
      ],
      "metadata": {
        "id": "tbqNEu5-K1HE",
        "colab": {
          "base_uri": "https://localhost:8080/"
        },
        "outputId": "1bce90ce-e0f8-4f5f-a2ea-2bff2d46c1c3"
      },
      "execution_count": 14,
      "outputs": [
        {
          "output_type": "stream",
          "name": "stdout",
          "text": [
            "    Nama        Prodi  Nilai Review     Status\n",
            "3  Putri        Kimia     95      A      Lulus\n",
            "0    Ali  Informatika     90     A-      Lulus\n",
            "2   Siti      Biologi     85    A/B      Lulus\n",
            "1   Budi   Matematika     80      B  Mengulang\n",
            "====Tabel Mahasiswa Diurutkan Berdasarkan Nilai Terendah====\n",
            "    Nama        Prodi  Nilai Review     Status\n",
            "3  Putri        Kimia     95      A      Lulus\n",
            "0    Ali  Informatika     90     A-      Lulus\n",
            "2   Siti      Biologi     85    A/B      Lulus\n",
            "1   Budi   Matematika     80      B  Mengulang\n",
            "====Tabel Mahasiswa Diurutkan Berdasarkan Nilai Terendah====\n",
            "    Nama        Prodi  Nilai Review     Status\n",
            "1   Budi   Matematika     80      B  Mengulang\n",
            "2   Siti      Biologi     85    A/B      Lulus\n",
            "0    Ali  Informatika     90     A-      Lulus\n",
            "3  Putri        Kimia     95      A      Lulus\n"
          ]
        }
      ]
    },
    {
      "cell_type": "markdown",
      "source": [
        "*4.3. Menambah atau Mengubah Kolom*"
      ],
      "metadata": {
        "id": "GinnLxdXK8gY"
      }
    },
    {
      "cell_type": "code",
      "source": [
        "# Menambah kolom 'Status' berdasarkan nilai\n",
        "df['Status'] = ['Lulus' if nilai >= 85 else 'Mengulang' for nilai in df['Nilai']]\n",
        "print(df)"
      ],
      "metadata": {
        "id": "WtoAAyQWLB05",
        "colab": {
          "base_uri": "https://localhost:8080/"
        },
        "outputId": "3cd81932-0d53-4d82-cf91-282f6911d81a"
      },
      "execution_count": 15,
      "outputs": [
        {
          "output_type": "stream",
          "name": "stdout",
          "text": [
            "    Nama        Prodi  Nilai Review     Status\n",
            "0    Ali  Informatika     90     A-      Lulus\n",
            "1   Budi   Matematika     80      B  Mengulang\n",
            "2   Siti      Biologi     85    A/B      Lulus\n",
            "3  Putri        Kimia     95      A      Lulus\n"
          ]
        }
      ]
    },
    {
      "cell_type": "markdown",
      "source": [
        "**Bab 5: Pembersihan Data (Cleaning Data)**"
      ],
      "metadata": {
        "id": "Xf3N2ReTLSa1"
      }
    },
    {
      "cell_type": "markdown",
      "source": [
        "*5.1. Menangani Data Kosong (Missing Values)*"
      ],
      "metadata": {
        "id": "rbWp4iF1LdyA"
      }
    },
    {
      "cell_type": "code",
      "source": [
        "#Teknik untuk mengatasi missing value\n",
        "\n",
        "# Load the original data\n",
        "sales_df_original = pd.read_csv(\"https://raw.githubusercontent.com/dicodingacademy/dicoding_dataset/main/DicodingCollection/sales.csv\")\n",
        "print(\"====Original Data (rows with missing total_price)====\")\n",
        "# Filter and print rows where total_price is NaN\n",
        "print(sales_df_original[sales_df_original['total_price'].isnull()])\n",
        "print(\"\\nMissing values in original data:\")\n",
        "print(sales_df_original.isnull().sum())\n",
        "\n",
        "# 1. Dropping\n",
        "# menghapus seluruh baris atau kolom yang memiliki missing value\n",
        "sales_df_dropped = pd.read_csv(\"https://raw.githubusercontent.com/dicodingacademy/dicoding_dataset/main/DicodingCollection/sales.csv\")\n",
        "sales_df_dropped = sales_df_dropped.dropna(axis=0)\n",
        "print(\"\\n====After Dropping Rows with Missing Values (Check if any missing rows remain)====\")\n",
        "# Check if any of the original missing rows are still present in the dropped DataFrame\n",
        "original_missing_indices = sales_df_original[sales_df_original['total_price'].isnull()].index\n",
        "print(sales_df_dropped.loc[sales_df_dropped.index.intersection(original_missing_indices)])\n",
        "print(\"\\nMissing values after dropping:\")\n",
        "print(sales_df_dropped.isnull().sum())\n",
        "\n",
        "\n",
        "# 2. Imputation\n",
        "# Metode ini bekerja dengan cara mengisi (fill) missing value dengan nilai tertentu\n",
        "sales_df_imputed = pd.read_csv(\"https://raw.githubusercontent.com/dicodingacademy/dicoding_dataset/main/DicodingCollection/sales.csv\")\n",
        "mean_total_price = sales_df_imputed['total_price'].mean()\n",
        "sales_df_imputed['total_price'] = sales_df_imputed['total_price'].fillna(mean_total_price)\n",
        "print(\"\\n====After Filling Missing Values with Mean (rows that originally had missing total_price)====\")\n",
        "# Print the rows that originally had missing values\n",
        "print(sales_df_imputed.loc[original_missing_indices])\n",
        "print(\"\\nMissing values after imputation:\")\n",
        "print(sales_df_imputed.isnull().sum())\n",
        "\n",
        "\n",
        "# 3. Interpolation\n",
        "# Interpolation adalah metode untuk mengisi nilai yang hilang dengan memperkirakan nilainya berdasarkan data yang ada di sekitarnya.\n",
        "sales_df_interpolated = pd.read_csv(\"https://raw.githubusercontent.com/dicodingacademy/dicoding_dataset/main/DicodingCollection/sales.csv\")\n",
        "sales_df_interpolated['total_price'] = sales_df_interpolated.total_price.interpolate(method='linear', limit_direction='forward')\n",
        "print(\"\\n====After Linear Interpolation (rows that originally had missing total_price)====\")\n",
        "# Print the rows that originally had missing values\n",
        "print(sales_df_interpolated.loc[original_missing_indices])\n",
        "print(\"\\nMissing values after interpolation:\")\n",
        "print(sales_df_interpolated.isnull().sum())"
      ],
      "metadata": {
        "colab": {
          "base_uri": "https://localhost:8080/"
        },
        "id": "RtJ9_-bZ9mRX",
        "outputId": "a5549f63-b94d-4736-a52e-b098e6841784"
      },
      "execution_count": 5,
      "outputs": [
        {
          "output_type": "stream",
          "name": "stdout",
          "text": [
            "====Original Data (rows with missing total_price)====\n",
            "      sales_id  order_id  product_id  price_per_unit  quantity  total_price\n",
            "9            9         2        1196             105         1          NaN\n",
            "121        121        27        1027              90         3          NaN\n",
            "278        278        63         360              94         2          NaN\n",
            "421        421        95        1091             115         1          NaN\n",
            "489        489       108        1193             105         3          NaN\n",
            "539        539       117         405             119         2          NaN\n",
            "636        636       134         653              93         3          NaN\n",
            "687        687       145        1138             102         1          NaN\n",
            "854        854       177          64             104         1          NaN\n",
            "1079      1079       222         908              94         3          NaN\n",
            "1193      1193       248        1121             102         2          NaN\n",
            "1313      1313       272         826             117         1          NaN\n",
            "1548      1548       316         103             118         3          NaN\n",
            "1688      1688       345         428             107         1          NaN\n",
            "1775      1775       359         694             113         2          NaN\n",
            "1902      1902       381        1218             105         3          NaN\n",
            "2025      2025       408         611             112         3          NaN\n",
            "2164      2164       436         583             100         3          NaN\n",
            "2347      2347       476         696             113         2          NaN\n",
            "\n",
            "Missing values in original data:\n",
            "sales_id           0\n",
            "order_id           0\n",
            "product_id         0\n",
            "price_per_unit     0\n",
            "quantity           0\n",
            "total_price       19\n",
            "dtype: int64\n",
            "\n",
            "====After Dropping Rows with Missing Values (Check if any missing rows remain)====\n",
            "Empty DataFrame\n",
            "Columns: [sales_id, order_id, product_id, price_per_unit, quantity, total_price]\n",
            "Index: []\n",
            "\n",
            "Missing values after dropping:\n",
            "sales_id          0\n",
            "order_id          0\n",
            "product_id        0\n",
            "price_per_unit    0\n",
            "quantity          0\n",
            "total_price       0\n",
            "dtype: int64\n",
            "\n",
            "====After Filling Missing Values with Mean (rows that originally had missing total_price)====\n",
            "      sales_id  order_id  product_id  price_per_unit  quantity  total_price\n",
            "9            9         2        1196             105         1   206.307368\n",
            "121        121        27        1027              90         3   206.307368\n",
            "278        278        63         360              94         2   206.307368\n",
            "421        421        95        1091             115         1   206.307368\n",
            "489        489       108        1193             105         3   206.307368\n",
            "539        539       117         405             119         2   206.307368\n",
            "636        636       134         653              93         3   206.307368\n",
            "687        687       145        1138             102         1   206.307368\n",
            "854        854       177          64             104         1   206.307368\n",
            "1079      1079       222         908              94         3   206.307368\n",
            "1193      1193       248        1121             102         2   206.307368\n",
            "1313      1313       272         826             117         1   206.307368\n",
            "1548      1548       316         103             118         3   206.307368\n",
            "1688      1688       345         428             107         1   206.307368\n",
            "1775      1775       359         694             113         2   206.307368\n",
            "1902      1902       381        1218             105         3   206.307368\n",
            "2025      2025       408         611             112         3   206.307368\n",
            "2164      2164       436         583             100         3   206.307368\n",
            "2347      2347       476         696             113         2   206.307368\n",
            "\n",
            "Missing values after imputation:\n",
            "sales_id          0\n",
            "order_id          0\n",
            "product_id        0\n",
            "price_per_unit    0\n",
            "quantity          0\n",
            "total_price       0\n",
            "dtype: int64\n",
            "\n",
            "====After Linear Interpolation (rows that originally had missing total_price)====\n",
            "      sales_id  order_id  product_id  price_per_unit  quantity  total_price\n",
            "9            9         2        1196             105         1        309.0\n",
            "121        121        27        1027              90         3        109.5\n",
            "278        278        63         360              94         2        146.0\n",
            "421        421        95        1091             115         1        216.0\n",
            "489        489       108        1193             105         3        187.5\n",
            "539        539       117         405             119         2        166.5\n",
            "636        636       134         653              93         3        150.5\n",
            "687        687       145        1138             102         1        281.0\n",
            "854        854       177          64             104         1         92.5\n",
            "1079      1079       222         908              94         3        150.5\n",
            "1193      1193       248        1121             102         2        312.0\n",
            "1313      1313       272         826             117         1        142.0\n",
            "1548      1548       316         103             118         3        235.5\n",
            "1688      1688       345         428             107         1        223.5\n",
            "1775      1775       359         694             113         2        205.5\n",
            "1902      1902       381        1218             105         3        355.5\n",
            "2025      2025       408         611             112         3        172.0\n",
            "2164      2164       436         583             100         3        159.0\n",
            "2347      2347       476         696             113         2        258.5\n",
            "\n",
            "Missing values after interpolation:\n",
            "sales_id          0\n",
            "order_id          0\n",
            "product_id        0\n",
            "price_per_unit    0\n",
            "quantity          0\n",
            "total_price       0\n",
            "dtype: int64\n"
          ]
        }
      ]
    },
    {
      "cell_type": "markdown",
      "source": [
        "*5.2. Menangani Data Duplikat*"
      ],
      "metadata": {
        "id": "HcU310wyKlYH"
      }
    },
    {
      "cell_type": "code",
      "source": [
        "#Teknik Untuk Mengatasi Duplicated Data\n",
        "\n",
        "#method drop_duplicates()\n",
        "products_df = pd.read_csv(\"https://raw.githubusercontent.com/dicodingacademy/dicoding_dataset/main/DicodingCollection/products.csv\")\n",
        "print(\"Jumlah Duplikat Awal:\",products_df.duplicated().sum())\n",
        "print(\"Jumlah Duplikat Sesudah:\",products_df.drop_duplicates(inplace=True))"
      ],
      "metadata": {
        "id": "h9XpwNQkKsMz",
        "colab": {
          "base_uri": "https://localhost:8080/"
        },
        "outputId": "7df41ea3-15c5-462e-bd98-d4bdcf175a6a"
      },
      "execution_count": 8,
      "outputs": [
        {
          "output_type": "stream",
          "name": "stdout",
          "text": [
            "Jumlah Duplikat Awal: 6\n",
            "Jumlah Duplikat Sesudah: None\n"
          ]
        }
      ]
    },
    {
      "cell_type": "markdown",
      "source": [
        "*5.3. Menangani Outlier*"
      ],
      "metadata": {
        "id": "WQ9wKTgaLnmO"
      }
    },
    {
      "cell_type": "code",
      "source": [
        "#Teknik untuk mengatasi Outlier\n",
        "\n",
        "import pandas as pd\n",
        "import numpy as np\n",
        "\n",
        "# Use the existing df_outliers DataFrame\n",
        "data = {'Values': [10, 12, 15, 16, 18, 20, 22, 25, 30, 100, -50]}\n",
        "df_outliers = pd.DataFrame(data)\n",
        "\n",
        "print(\"Original DataFrame:\")\n",
        "print(df_outliers)\n",
        "\n",
        "#1.Drop\n",
        "#menghapus seluruh baris yang mengandung outlier\n",
        "Q1 = (df_outliers['Values']).quantile(0.25)\n",
        "Q3 = (df_outliers['Values']).quantile(0.75)\n",
        "IQR = Q3 - Q1\n",
        "\n",
        "maximum = Q3 + (1.5*IQR)\n",
        "minimum = Q1 - (1.5*IQR)\n",
        "\n",
        "kondisi_lower_than = df_outliers['Values'] < minimum\n",
        "kondisi_more_than = df_outliers['Values'] > maximum\n",
        "\n",
        "df_dropped = df_outliers.copy() # Create a copy to avoid modifying the original df_outliers\n",
        "df_dropped.drop(df_dropped[kondisi_lower_than].index, inplace=True)\n",
        "df_dropped.drop(df_dropped[kondisi_more_than].index, inplace=True)\n",
        "\n",
        "print(\"\\nDataFrame after dropping outliers:\")\n",
        "print(df_dropped)\n",
        "\n",
        "#2.Imputation\n",
        "#Nilai yang bisa kita gunakan ialah mean, median, dan mode. Selain itu, tidak jarang juga kita mengganti outlier dengan boundary value.\n",
        "df_imputed = df_outliers.copy() # Create a copy to avoid modifying the original df_outliers\n",
        "Q1 = (df_imputed['Values']).quantile(0.25)\n",
        "Q3 = (df_imputed['Values']).quantile(0.75)\n",
        "IQR = Q3 - Q1\n",
        "\n",
        "maximum = Q3 + (1.5*IQR)\n",
        "minimum = Q1 - (1.5*IQR)\n",
        "\n",
        "kondisi_lower_than = df_imputed['Values'] < minimum\n",
        "kondisi_more_than = df_imputed['Values'] > maximum\n",
        "\n",
        "df_imputed['Values'] = df_imputed['Values'].mask(cond=kondisi_more_than, other=maximum)\n",
        "df_imputed['Values'] = df_imputed['Values'].mask(cond=kondisi_lower_than, other=minimum)\n",
        "\n",
        "\n",
        "print(\"\\nDataFrame after imputing outliers with boundary values:\")\n",
        "print(df_imputed)"
      ],
      "metadata": {
        "id": "lgHTZMiSLu6m",
        "colab": {
          "base_uri": "https://localhost:8080/"
        },
        "outputId": "c25534a6-3463-4518-fc8a-d00061566007"
      },
      "execution_count": 9,
      "outputs": [
        {
          "output_type": "stream",
          "name": "stdout",
          "text": [
            "Original DataFrame:\n",
            "    Values\n",
            "0       10\n",
            "1       12\n",
            "2       15\n",
            "3       16\n",
            "4       18\n",
            "5       20\n",
            "6       22\n",
            "7       25\n",
            "8       30\n",
            "9      100\n",
            "10     -50\n",
            "\n",
            "DataFrame after dropping outliers:\n",
            "   Values\n",
            "0      10\n",
            "1      12\n",
            "2      15\n",
            "3      16\n",
            "4      18\n",
            "5      20\n",
            "6      22\n",
            "7      25\n",
            "8      30\n",
            "\n",
            "DataFrame after imputing outliers with boundary values:\n",
            "    Values\n",
            "0     10.0\n",
            "1     12.0\n",
            "2     15.0\n",
            "3     16.0\n",
            "4     18.0\n",
            "5     20.0\n",
            "6     22.0\n",
            "7     25.0\n",
            "8     30.0\n",
            "9     38.5\n",
            "10    -1.5\n"
          ]
        },
        {
          "output_type": "stream",
          "name": "stderr",
          "text": [
            "/tmp/ipython-input-9-78331727.py:27: UserWarning: Boolean Series key will be reindexed to match DataFrame index.\n",
            "  df_dropped.drop(df_dropped[kondisi_more_than].index, inplace=True)\n"
          ]
        }
      ]
    },
    {
      "cell_type": "markdown",
      "source": [
        "**Bab 6: Analisis & Agregasi Data**"
      ],
      "metadata": {
        "id": "8721EbosMN_2"
      }
    },
    {
      "cell_type": "markdown",
      "source": [
        "*6.1: Perhitungan Statistik Dasar*"
      ],
      "metadata": {
        "id": "ULF2yd64Py5g"
      }
    },
    {
      "cell_type": "code",
      "source": [
        "import pandas as pd\n",
        "\n",
        "# Dataframe yang akan kita gunakan\n",
        "data = {\n",
        "    'Nama': ['Ali', 'Budi', 'Citra', 'Dewi', 'Eka'],\n",
        "    'Prodi': ['Informatika', 'Matematika', 'Biologi', 'Informatika', 'Biologi'],\n",
        "    'Nilai': [85, 92, 78, 88, 92]\n",
        "}\n",
        "df = pd.DataFrame(data)\n",
        "\n",
        "# Menjumlahkan semua nilai\n",
        "total_nilai = df['Nilai'].sum()\n",
        "print(f\"Total semua nilai: {total_nilai}\")\n",
        "\n",
        "# Mencari nilai tertinggi\n",
        "nilai_tertinggi = df['Nilai'].max()\n",
        "print(f\"Nilai tertinggi: {nilai_tertinggi}\")\n",
        "\n",
        "# Mencari nilai terendah\n",
        "nilai_terendah = df['Nilai'].min()\n",
        "print(f\"Nilai terendah: {nilai_terendah}\")\n",
        "\n",
        "# Mencari nilai tengah (median)\n",
        "nilai_tengah = df['Nilai'].median()\n",
        "print(f\"Nilai tengah (median): {nilai_tengah}\")\n",
        "\n",
        "# Menghitung jumlah data\n",
        "jumlah_data = df['Nilai'].count()\n",
        "print(f\"Jumlah data nilai: {jumlah_data}\")\n",
        "\n",
        "# Menghitung rata-rata untuk kolom 'Population'\n",
        "rata_rata_nilai = df['Nilai'].mean()\n",
        "print(f\"Rata-rata Nilai: {rata_rata_nilai:,.2f}\")"
      ],
      "metadata": {
        "colab": {
          "base_uri": "https://localhost:8080/"
        },
        "id": "KxOPR-qTP_VS",
        "outputId": "7acfe014-65e6-4328-ff5c-1937a5912e52"
      },
      "execution_count": 10,
      "outputs": [
        {
          "output_type": "stream",
          "name": "stdout",
          "text": [
            "Total semua nilai: 435\n",
            "Nilai tertinggi: 92\n",
            "Nilai terendah: 78\n",
            "Nilai tengah (median): 88.0\n",
            "Jumlah data nilai: 5\n",
            "Rata-rata Nilai: 87.00\n"
          ]
        }
      ]
    },
    {
      "cell_type": "markdown",
      "source": [
        "*6.2. Agregasi dengan groupby()*"
      ],
      "metadata": {
        "id": "hZX26fnbMwnm"
      }
    },
    {
      "cell_type": "code",
      "source": [
        "#groupby() yang dapat membantu kita dalam membuat pivot table secara lebih efisien dan scalable\n",
        "#groupby() adalah suatu method yang memungkinkan kita untuk melakukan operasi pada data frame berdasarkan kategori tertentu\n",
        "\n",
        "body_measurement_df = pd.DataFrame.from_records((\n",
        "  (2, 83.82, 8.4),\n",
        "  (4, 99.31, 16.97),\n",
        "  (3, 96.52, 14.41),\n",
        "  (6, 114.3, 20.14),\n",
        "  (4, 101.6, 16.91),\n",
        "  (2, 86.36, 12.64),\n",
        "  (3, 92.71, 14.23),\n",
        "  (2, 85.09, 11.11),\n",
        "  (2, 85.85, 14.18),\n",
        "  (5, 106.68, 20.01),\n",
        "  (4, 99.06, 13.17),\n",
        "  (5, 109.22, 15.36),\n",
        "  (4, 100.84, 14.78),\n",
        "  (6, 115.06, 20.06),\n",
        "  (2, 84.07, 10.02),\n",
        "  (7, 121.67, 28.4),\n",
        "  (3, 94.49, 14.05),\n",
        "  (6, 116.59, 17.55),\n",
        "  (7, 121.92, 22.96),\n",
        "), columns=(\"age\", \"height_cm\", \"weight_kg\"))\n",
        "\n",
        "print(body_measurement_df.groupby(by=\"age\").mean())\n",
        "print(body_measurement_df.groupby(by='age').agg({\n",
        "    'height_cm': 'mean',\n",
        "    'weight_kg': ['mean','max', 'min'],\n",
        "}))"
      ],
      "metadata": {
        "id": "sPThk2bdMjsN",
        "colab": {
          "base_uri": "https://localhost:8080/"
        },
        "outputId": "fd2cd558-b35c-46ed-e3a0-f5d650eeccbf"
      },
      "execution_count": 11,
      "outputs": [
        {
          "output_type": "stream",
          "name": "stdout",
          "text": [
            "      height_cm  weight_kg\n",
            "age                       \n",
            "2     85.038000    11.2700\n",
            "3     94.573333    14.2300\n",
            "4    100.202500    15.4575\n",
            "5    107.950000    17.6850\n",
            "6    115.316667    19.2500\n",
            "7    121.795000    25.6800\n",
            "      height_cm weight_kg              \n",
            "           mean      mean    max    min\n",
            "age                                    \n",
            "2     85.038000   11.2700  14.18   8.40\n",
            "3     94.573333   14.2300  14.41  14.05\n",
            "4    100.202500   15.4575  16.97  13.17\n",
            "5    107.950000   17.6850  20.01  15.36\n",
            "6    115.316667   19.2500  20.14  17.55\n",
            "7    121.795000   25.6800  28.40  22.96\n"
          ]
        }
      ]
    },
    {
      "cell_type": "markdown",
      "source": [
        "*6.3: Menghitung Frekuensi Kategori (.value_counts())*"
      ],
      "metadata": {
        "id": "ceNyKyhYQZzP"
      }
    },
    {
      "cell_type": "code",
      "source": [
        "# Menghitung jumlah mahasiswa di setiap prodi\n",
        "frekuensi_prodi = df['Prodi'].value_counts()\n",
        "\n",
        "print(\"--- Frekuensi Mahasiswa per Prodi ---\")\n",
        "print(frekuensi_prodi)"
      ],
      "metadata": {
        "id": "hdy0a_LcQbrT",
        "colab": {
          "base_uri": "https://localhost:8080/"
        },
        "outputId": "a864994f-2a76-4fe0-abc9-52fd3007687a"
      },
      "execution_count": 12,
      "outputs": [
        {
          "output_type": "stream",
          "name": "stdout",
          "text": [
            "--- Frekuensi Mahasiswa per Prodi ---\n",
            "Prodi\n",
            "Informatika    2\n",
            "Biologi        2\n",
            "Matematika     1\n",
            "Name: count, dtype: int64\n"
          ]
        }
      ]
    },
    {
      "cell_type": "markdown",
      "source": [
        "*6.4. Analisis Korelasi (.corr())*"
      ],
      "metadata": {
        "id": "ZHhIHAtkSIdQ"
      }
    },
    {
      "cell_type": "code",
      "source": [
        "#Correlation\n",
        "sample_data = {\n",
        "    'name': ['John', 'Alia', 'Ananya', 'Steve', 'Ben'],\n",
        "    'age': [24, 22, 23, 25, 28],\n",
        "    'communication_skill_score': [85, 70, 75, 90, 90],\n",
        "    'quantitative_skill_score': [80, 90, 80, 75, 70]\n",
        "    }\n",
        "db = pd.DataFrame(sample_data)\n",
        "db.corr(numeric_only=True)"
      ],
      "metadata": {
        "id": "8izuE-paSK03",
        "colab": {
          "base_uri": "https://localhost:8080/",
          "height": 143
        },
        "outputId": "11f4ab50-ae18-4b4a-dfb5-38e04009e85c"
      },
      "execution_count": 13,
      "outputs": [
        {
          "output_type": "execute_result",
          "data": {
            "text/plain": [
              "                                age  communication_skill_score  \\\n",
              "age                        1.000000                   0.848855   \n",
              "communication_skill_score  0.848855                   1.000000   \n",
              "quantitative_skill_score  -0.922489                  -0.890724   \n",
              "\n",
              "                           quantitative_skill_score  \n",
              "age                                       -0.922489  \n",
              "communication_skill_score                 -0.890724  \n",
              "quantitative_skill_score                   1.000000  "
            ],
            "text/html": [
              "\n",
              "  <div id=\"df-1ed21465-1ecd-4552-a86a-1d6bd0e403eb\" class=\"colab-df-container\">\n",
              "    <div>\n",
              "<style scoped>\n",
              "    .dataframe tbody tr th:only-of-type {\n",
              "        vertical-align: middle;\n",
              "    }\n",
              "\n",
              "    .dataframe tbody tr th {\n",
              "        vertical-align: top;\n",
              "    }\n",
              "\n",
              "    .dataframe thead th {\n",
              "        text-align: right;\n",
              "    }\n",
              "</style>\n",
              "<table border=\"1\" class=\"dataframe\">\n",
              "  <thead>\n",
              "    <tr style=\"text-align: right;\">\n",
              "      <th></th>\n",
              "      <th>age</th>\n",
              "      <th>communication_skill_score</th>\n",
              "      <th>quantitative_skill_score</th>\n",
              "    </tr>\n",
              "  </thead>\n",
              "  <tbody>\n",
              "    <tr>\n",
              "      <th>age</th>\n",
              "      <td>1.000000</td>\n",
              "      <td>0.848855</td>\n",
              "      <td>-0.922489</td>\n",
              "    </tr>\n",
              "    <tr>\n",
              "      <th>communication_skill_score</th>\n",
              "      <td>0.848855</td>\n",
              "      <td>1.000000</td>\n",
              "      <td>-0.890724</td>\n",
              "    </tr>\n",
              "    <tr>\n",
              "      <th>quantitative_skill_score</th>\n",
              "      <td>-0.922489</td>\n",
              "      <td>-0.890724</td>\n",
              "      <td>1.000000</td>\n",
              "    </tr>\n",
              "  </tbody>\n",
              "</table>\n",
              "</div>\n",
              "    <div class=\"colab-df-buttons\">\n",
              "\n",
              "  <div class=\"colab-df-container\">\n",
              "    <button class=\"colab-df-convert\" onclick=\"convertToInteractive('df-1ed21465-1ecd-4552-a86a-1d6bd0e403eb')\"\n",
              "            title=\"Convert this dataframe to an interactive table.\"\n",
              "            style=\"display:none;\">\n",
              "\n",
              "  <svg xmlns=\"http://www.w3.org/2000/svg\" height=\"24px\" viewBox=\"0 -960 960 960\">\n",
              "    <path d=\"M120-120v-720h720v720H120Zm60-500h600v-160H180v160Zm220 220h160v-160H400v160Zm0 220h160v-160H400v160ZM180-400h160v-160H180v160Zm440 0h160v-160H620v160ZM180-180h160v-160H180v160Zm440 0h160v-160H620v160Z\"/>\n",
              "  </svg>\n",
              "    </button>\n",
              "\n",
              "  <style>\n",
              "    .colab-df-container {\n",
              "      display:flex;\n",
              "      gap: 12px;\n",
              "    }\n",
              "\n",
              "    .colab-df-convert {\n",
              "      background-color: #E8F0FE;\n",
              "      border: none;\n",
              "      border-radius: 50%;\n",
              "      cursor: pointer;\n",
              "      display: none;\n",
              "      fill: #1967D2;\n",
              "      height: 32px;\n",
              "      padding: 0 0 0 0;\n",
              "      width: 32px;\n",
              "    }\n",
              "\n",
              "    .colab-df-convert:hover {\n",
              "      background-color: #E2EBFA;\n",
              "      box-shadow: 0px 1px 2px rgba(60, 64, 67, 0.3), 0px 1px 3px 1px rgba(60, 64, 67, 0.15);\n",
              "      fill: #174EA6;\n",
              "    }\n",
              "\n",
              "    .colab-df-buttons div {\n",
              "      margin-bottom: 4px;\n",
              "    }\n",
              "\n",
              "    [theme=dark] .colab-df-convert {\n",
              "      background-color: #3B4455;\n",
              "      fill: #D2E3FC;\n",
              "    }\n",
              "\n",
              "    [theme=dark] .colab-df-convert:hover {\n",
              "      background-color: #434B5C;\n",
              "      box-shadow: 0px 1px 3px 1px rgba(0, 0, 0, 0.15);\n",
              "      filter: drop-shadow(0px 1px 2px rgba(0, 0, 0, 0.3));\n",
              "      fill: #FFFFFF;\n",
              "    }\n",
              "  </style>\n",
              "\n",
              "    <script>\n",
              "      const buttonEl =\n",
              "        document.querySelector('#df-1ed21465-1ecd-4552-a86a-1d6bd0e403eb button.colab-df-convert');\n",
              "      buttonEl.style.display =\n",
              "        google.colab.kernel.accessAllowed ? 'block' : 'none';\n",
              "\n",
              "      async function convertToInteractive(key) {\n",
              "        const element = document.querySelector('#df-1ed21465-1ecd-4552-a86a-1d6bd0e403eb');\n",
              "        const dataTable =\n",
              "          await google.colab.kernel.invokeFunction('convertToInteractive',\n",
              "                                                    [key], {});\n",
              "        if (!dataTable) return;\n",
              "\n",
              "        const docLinkHtml = 'Like what you see? Visit the ' +\n",
              "          '<a target=\"_blank\" href=https://colab.research.google.com/notebooks/data_table.ipynb>data table notebook</a>'\n",
              "          + ' to learn more about interactive tables.';\n",
              "        element.innerHTML = '';\n",
              "        dataTable['output_type'] = 'display_data';\n",
              "        await google.colab.output.renderOutput(dataTable, element);\n",
              "        const docLink = document.createElement('div');\n",
              "        docLink.innerHTML = docLinkHtml;\n",
              "        element.appendChild(docLink);\n",
              "      }\n",
              "    </script>\n",
              "  </div>\n",
              "\n",
              "\n",
              "    <div id=\"df-c99ea649-11bd-4c8a-9f5a-3a659abc7732\">\n",
              "      <button class=\"colab-df-quickchart\" onclick=\"quickchart('df-c99ea649-11bd-4c8a-9f5a-3a659abc7732')\"\n",
              "                title=\"Suggest charts\"\n",
              "                style=\"display:none;\">\n",
              "\n",
              "<svg xmlns=\"http://www.w3.org/2000/svg\" height=\"24px\"viewBox=\"0 0 24 24\"\n",
              "     width=\"24px\">\n",
              "    <g>\n",
              "        <path d=\"M19 3H5c-1.1 0-2 .9-2 2v14c0 1.1.9 2 2 2h14c1.1 0 2-.9 2-2V5c0-1.1-.9-2-2-2zM9 17H7v-7h2v7zm4 0h-2V7h2v10zm4 0h-2v-4h2v4z\"/>\n",
              "    </g>\n",
              "</svg>\n",
              "      </button>\n",
              "\n",
              "<style>\n",
              "  .colab-df-quickchart {\n",
              "      --bg-color: #E8F0FE;\n",
              "      --fill-color: #1967D2;\n",
              "      --hover-bg-color: #E2EBFA;\n",
              "      --hover-fill-color: #174EA6;\n",
              "      --disabled-fill-color: #AAA;\n",
              "      --disabled-bg-color: #DDD;\n",
              "  }\n",
              "\n",
              "  [theme=dark] .colab-df-quickchart {\n",
              "      --bg-color: #3B4455;\n",
              "      --fill-color: #D2E3FC;\n",
              "      --hover-bg-color: #434B5C;\n",
              "      --hover-fill-color: #FFFFFF;\n",
              "      --disabled-bg-color: #3B4455;\n",
              "      --disabled-fill-color: #666;\n",
              "  }\n",
              "\n",
              "  .colab-df-quickchart {\n",
              "    background-color: var(--bg-color);\n",
              "    border: none;\n",
              "    border-radius: 50%;\n",
              "    cursor: pointer;\n",
              "    display: none;\n",
              "    fill: var(--fill-color);\n",
              "    height: 32px;\n",
              "    padding: 0;\n",
              "    width: 32px;\n",
              "  }\n",
              "\n",
              "  .colab-df-quickchart:hover {\n",
              "    background-color: var(--hover-bg-color);\n",
              "    box-shadow: 0 1px 2px rgba(60, 64, 67, 0.3), 0 1px 3px 1px rgba(60, 64, 67, 0.15);\n",
              "    fill: var(--button-hover-fill-color);\n",
              "  }\n",
              "\n",
              "  .colab-df-quickchart-complete:disabled,\n",
              "  .colab-df-quickchart-complete:disabled:hover {\n",
              "    background-color: var(--disabled-bg-color);\n",
              "    fill: var(--disabled-fill-color);\n",
              "    box-shadow: none;\n",
              "  }\n",
              "\n",
              "  .colab-df-spinner {\n",
              "    border: 2px solid var(--fill-color);\n",
              "    border-color: transparent;\n",
              "    border-bottom-color: var(--fill-color);\n",
              "    animation:\n",
              "      spin 1s steps(1) infinite;\n",
              "  }\n",
              "\n",
              "  @keyframes spin {\n",
              "    0% {\n",
              "      border-color: transparent;\n",
              "      border-bottom-color: var(--fill-color);\n",
              "      border-left-color: var(--fill-color);\n",
              "    }\n",
              "    20% {\n",
              "      border-color: transparent;\n",
              "      border-left-color: var(--fill-color);\n",
              "      border-top-color: var(--fill-color);\n",
              "    }\n",
              "    30% {\n",
              "      border-color: transparent;\n",
              "      border-left-color: var(--fill-color);\n",
              "      border-top-color: var(--fill-color);\n",
              "      border-right-color: var(--fill-color);\n",
              "    }\n",
              "    40% {\n",
              "      border-color: transparent;\n",
              "      border-right-color: var(--fill-color);\n",
              "      border-top-color: var(--fill-color);\n",
              "    }\n",
              "    60% {\n",
              "      border-color: transparent;\n",
              "      border-right-color: var(--fill-color);\n",
              "    }\n",
              "    80% {\n",
              "      border-color: transparent;\n",
              "      border-right-color: var(--fill-color);\n",
              "      border-bottom-color: var(--fill-color);\n",
              "    }\n",
              "    90% {\n",
              "      border-color: transparent;\n",
              "      border-bottom-color: var(--fill-color);\n",
              "    }\n",
              "  }\n",
              "</style>\n",
              "\n",
              "      <script>\n",
              "        async function quickchart(key) {\n",
              "          const quickchartButtonEl =\n",
              "            document.querySelector('#' + key + ' button');\n",
              "          quickchartButtonEl.disabled = true;  // To prevent multiple clicks.\n",
              "          quickchartButtonEl.classList.add('colab-df-spinner');\n",
              "          try {\n",
              "            const charts = await google.colab.kernel.invokeFunction(\n",
              "                'suggestCharts', [key], {});\n",
              "          } catch (error) {\n",
              "            console.error('Error during call to suggestCharts:', error);\n",
              "          }\n",
              "          quickchartButtonEl.classList.remove('colab-df-spinner');\n",
              "          quickchartButtonEl.classList.add('colab-df-quickchart-complete');\n",
              "        }\n",
              "        (() => {\n",
              "          let quickchartButtonEl =\n",
              "            document.querySelector('#df-c99ea649-11bd-4c8a-9f5a-3a659abc7732 button');\n",
              "          quickchartButtonEl.style.display =\n",
              "            google.colab.kernel.accessAllowed ? 'block' : 'none';\n",
              "        })();\n",
              "      </script>\n",
              "    </div>\n",
              "\n",
              "    </div>\n",
              "  </div>\n"
            ],
            "application/vnd.google.colaboratory.intrinsic+json": {
              "type": "dataframe",
              "summary": "{\n  \"name\": \"db\",\n  \"rows\": 3,\n  \"fields\": [\n    {\n      \"column\": \"age\",\n      \"properties\": {\n        \"dtype\": \"number\",\n        \"std\": 1.0689924560917023,\n        \"min\": -0.9224891749354408,\n        \"max\": 1.0,\n        \"num_unique_values\": 3,\n        \"samples\": [\n          1.0,\n          0.8488548772493884,\n          -0.9224891749354408\n        ],\n        \"semantic_type\": \"\",\n        \"description\": \"\"\n      }\n    },\n    {\n      \"column\": \"communication_skill_score\",\n      \"properties\": {\n        \"dtype\": \"number\",\n        \"std\": 1.050699246783669,\n        \"min\": -0.8907235428302468,\n        \"max\": 1.0,\n        \"num_unique_values\": 3,\n        \"samples\": [\n          0.8488548772493884,\n          1.0,\n          -0.8907235428302468\n        ],\n        \"semantic_type\": \"\",\n        \"description\": \"\"\n      }\n    },\n    {\n      \"column\": \"quantitative_skill_score\",\n      \"properties\": {\n        \"dtype\": \"number\",\n        \"std\": 1.1008942727422069,\n        \"min\": -0.9224891749354408,\n        \"max\": 1.0,\n        \"num_unique_values\": 3,\n        \"samples\": [\n          -0.9224891749354408,\n          -0.8907235428302468,\n          1.0\n        ],\n        \"semantic_type\": \"\",\n        \"description\": \"\"\n      }\n    }\n  ]\n}"
            }
          },
          "metadata": {},
          "execution_count": 13
        }
      ]
    },
    {
      "cell_type": "code",
      "source": [
        "#Covariance\n",
        "sample_data = {\n",
        "    'name': ['John', 'Alia', 'Ananya', 'Steve', 'Ben'],\n",
        "    'age': [24, 22, 23, 25, 28],\n",
        "    'communication_skill_score': [85, 70, 75, 90, 90],\n",
        "    'quantitative_skill_score': [80, 90, 80, 75, 70]\n",
        "    }\n",
        "\n",
        "dc = pd.DataFrame(sample_data)\n",
        "dc.cov(numeric_only=True)"
      ],
      "metadata": {
        "colab": {
          "base_uri": "https://localhost:8080/",
          "height": 143
        },
        "id": "-uhQuE5-FBab",
        "outputId": "149f2216-6976-4934-c7aa-582b6834c112"
      },
      "execution_count": 14,
      "outputs": [
        {
          "output_type": "execute_result",
          "data": {
            "text/plain": [
              "                             age  communication_skill_score  \\\n",
              "age                         5.30                      17.75   \n",
              "communication_skill_score  17.75                      82.50   \n",
              "quantitative_skill_score  -15.75                     -60.00   \n",
              "\n",
              "                           quantitative_skill_score  \n",
              "age                                          -15.75  \n",
              "communication_skill_score                    -60.00  \n",
              "quantitative_skill_score                      55.00  "
            ],
            "text/html": [
              "\n",
              "  <div id=\"df-b76e6711-11d3-458b-b4e7-e64902d0191b\" class=\"colab-df-container\">\n",
              "    <div>\n",
              "<style scoped>\n",
              "    .dataframe tbody tr th:only-of-type {\n",
              "        vertical-align: middle;\n",
              "    }\n",
              "\n",
              "    .dataframe tbody tr th {\n",
              "        vertical-align: top;\n",
              "    }\n",
              "\n",
              "    .dataframe thead th {\n",
              "        text-align: right;\n",
              "    }\n",
              "</style>\n",
              "<table border=\"1\" class=\"dataframe\">\n",
              "  <thead>\n",
              "    <tr style=\"text-align: right;\">\n",
              "      <th></th>\n",
              "      <th>age</th>\n",
              "      <th>communication_skill_score</th>\n",
              "      <th>quantitative_skill_score</th>\n",
              "    </tr>\n",
              "  </thead>\n",
              "  <tbody>\n",
              "    <tr>\n",
              "      <th>age</th>\n",
              "      <td>5.30</td>\n",
              "      <td>17.75</td>\n",
              "      <td>-15.75</td>\n",
              "    </tr>\n",
              "    <tr>\n",
              "      <th>communication_skill_score</th>\n",
              "      <td>17.75</td>\n",
              "      <td>82.50</td>\n",
              "      <td>-60.00</td>\n",
              "    </tr>\n",
              "    <tr>\n",
              "      <th>quantitative_skill_score</th>\n",
              "      <td>-15.75</td>\n",
              "      <td>-60.00</td>\n",
              "      <td>55.00</td>\n",
              "    </tr>\n",
              "  </tbody>\n",
              "</table>\n",
              "</div>\n",
              "    <div class=\"colab-df-buttons\">\n",
              "\n",
              "  <div class=\"colab-df-container\">\n",
              "    <button class=\"colab-df-convert\" onclick=\"convertToInteractive('df-b76e6711-11d3-458b-b4e7-e64902d0191b')\"\n",
              "            title=\"Convert this dataframe to an interactive table.\"\n",
              "            style=\"display:none;\">\n",
              "\n",
              "  <svg xmlns=\"http://www.w3.org/2000/svg\" height=\"24px\" viewBox=\"0 -960 960 960\">\n",
              "    <path d=\"M120-120v-720h720v720H120Zm60-500h600v-160H180v160Zm220 220h160v-160H400v160Zm0 220h160v-160H400v160ZM180-400h160v-160H180v160Zm440 0h160v-160H620v160ZM180-180h160v-160H180v160Zm440 0h160v-160H620v160Z\"/>\n",
              "  </svg>\n",
              "    </button>\n",
              "\n",
              "  <style>\n",
              "    .colab-df-container {\n",
              "      display:flex;\n",
              "      gap: 12px;\n",
              "    }\n",
              "\n",
              "    .colab-df-convert {\n",
              "      background-color: #E8F0FE;\n",
              "      border: none;\n",
              "      border-radius: 50%;\n",
              "      cursor: pointer;\n",
              "      display: none;\n",
              "      fill: #1967D2;\n",
              "      height: 32px;\n",
              "      padding: 0 0 0 0;\n",
              "      width: 32px;\n",
              "    }\n",
              "\n",
              "    .colab-df-convert:hover {\n",
              "      background-color: #E2EBFA;\n",
              "      box-shadow: 0px 1px 2px rgba(60, 64, 67, 0.3), 0px 1px 3px 1px rgba(60, 64, 67, 0.15);\n",
              "      fill: #174EA6;\n",
              "    }\n",
              "\n",
              "    .colab-df-buttons div {\n",
              "      margin-bottom: 4px;\n",
              "    }\n",
              "\n",
              "    [theme=dark] .colab-df-convert {\n",
              "      background-color: #3B4455;\n",
              "      fill: #D2E3FC;\n",
              "    }\n",
              "\n",
              "    [theme=dark] .colab-df-convert:hover {\n",
              "      background-color: #434B5C;\n",
              "      box-shadow: 0px 1px 3px 1px rgba(0, 0, 0, 0.15);\n",
              "      filter: drop-shadow(0px 1px 2px rgba(0, 0, 0, 0.3));\n",
              "      fill: #FFFFFF;\n",
              "    }\n",
              "  </style>\n",
              "\n",
              "    <script>\n",
              "      const buttonEl =\n",
              "        document.querySelector('#df-b76e6711-11d3-458b-b4e7-e64902d0191b button.colab-df-convert');\n",
              "      buttonEl.style.display =\n",
              "        google.colab.kernel.accessAllowed ? 'block' : 'none';\n",
              "\n",
              "      async function convertToInteractive(key) {\n",
              "        const element = document.querySelector('#df-b76e6711-11d3-458b-b4e7-e64902d0191b');\n",
              "        const dataTable =\n",
              "          await google.colab.kernel.invokeFunction('convertToInteractive',\n",
              "                                                    [key], {});\n",
              "        if (!dataTable) return;\n",
              "\n",
              "        const docLinkHtml = 'Like what you see? Visit the ' +\n",
              "          '<a target=\"_blank\" href=https://colab.research.google.com/notebooks/data_table.ipynb>data table notebook</a>'\n",
              "          + ' to learn more about interactive tables.';\n",
              "        element.innerHTML = '';\n",
              "        dataTable['output_type'] = 'display_data';\n",
              "        await google.colab.output.renderOutput(dataTable, element);\n",
              "        const docLink = document.createElement('div');\n",
              "        docLink.innerHTML = docLinkHtml;\n",
              "        element.appendChild(docLink);\n",
              "      }\n",
              "    </script>\n",
              "  </div>\n",
              "\n",
              "\n",
              "    <div id=\"df-d0354c7e-47c6-402d-b8d8-efac476a37aa\">\n",
              "      <button class=\"colab-df-quickchart\" onclick=\"quickchart('df-d0354c7e-47c6-402d-b8d8-efac476a37aa')\"\n",
              "                title=\"Suggest charts\"\n",
              "                style=\"display:none;\">\n",
              "\n",
              "<svg xmlns=\"http://www.w3.org/2000/svg\" height=\"24px\"viewBox=\"0 0 24 24\"\n",
              "     width=\"24px\">\n",
              "    <g>\n",
              "        <path d=\"M19 3H5c-1.1 0-2 .9-2 2v14c0 1.1.9 2 2 2h14c1.1 0 2-.9 2-2V5c0-1.1-.9-2-2-2zM9 17H7v-7h2v7zm4 0h-2V7h2v10zm4 0h-2v-4h2v4z\"/>\n",
              "    </g>\n",
              "</svg>\n",
              "      </button>\n",
              "\n",
              "<style>\n",
              "  .colab-df-quickchart {\n",
              "      --bg-color: #E8F0FE;\n",
              "      --fill-color: #1967D2;\n",
              "      --hover-bg-color: #E2EBFA;\n",
              "      --hover-fill-color: #174EA6;\n",
              "      --disabled-fill-color: #AAA;\n",
              "      --disabled-bg-color: #DDD;\n",
              "  }\n",
              "\n",
              "  [theme=dark] .colab-df-quickchart {\n",
              "      --bg-color: #3B4455;\n",
              "      --fill-color: #D2E3FC;\n",
              "      --hover-bg-color: #434B5C;\n",
              "      --hover-fill-color: #FFFFFF;\n",
              "      --disabled-bg-color: #3B4455;\n",
              "      --disabled-fill-color: #666;\n",
              "  }\n",
              "\n",
              "  .colab-df-quickchart {\n",
              "    background-color: var(--bg-color);\n",
              "    border: none;\n",
              "    border-radius: 50%;\n",
              "    cursor: pointer;\n",
              "    display: none;\n",
              "    fill: var(--fill-color);\n",
              "    height: 32px;\n",
              "    padding: 0;\n",
              "    width: 32px;\n",
              "  }\n",
              "\n",
              "  .colab-df-quickchart:hover {\n",
              "    background-color: var(--hover-bg-color);\n",
              "    box-shadow: 0 1px 2px rgba(60, 64, 67, 0.3), 0 1px 3px 1px rgba(60, 64, 67, 0.15);\n",
              "    fill: var(--button-hover-fill-color);\n",
              "  }\n",
              "\n",
              "  .colab-df-quickchart-complete:disabled,\n",
              "  .colab-df-quickchart-complete:disabled:hover {\n",
              "    background-color: var(--disabled-bg-color);\n",
              "    fill: var(--disabled-fill-color);\n",
              "    box-shadow: none;\n",
              "  }\n",
              "\n",
              "  .colab-df-spinner {\n",
              "    border: 2px solid var(--fill-color);\n",
              "    border-color: transparent;\n",
              "    border-bottom-color: var(--fill-color);\n",
              "    animation:\n",
              "      spin 1s steps(1) infinite;\n",
              "  }\n",
              "\n",
              "  @keyframes spin {\n",
              "    0% {\n",
              "      border-color: transparent;\n",
              "      border-bottom-color: var(--fill-color);\n",
              "      border-left-color: var(--fill-color);\n",
              "    }\n",
              "    20% {\n",
              "      border-color: transparent;\n",
              "      border-left-color: var(--fill-color);\n",
              "      border-top-color: var(--fill-color);\n",
              "    }\n",
              "    30% {\n",
              "      border-color: transparent;\n",
              "      border-left-color: var(--fill-color);\n",
              "      border-top-color: var(--fill-color);\n",
              "      border-right-color: var(--fill-color);\n",
              "    }\n",
              "    40% {\n",
              "      border-color: transparent;\n",
              "      border-right-color: var(--fill-color);\n",
              "      border-top-color: var(--fill-color);\n",
              "    }\n",
              "    60% {\n",
              "      border-color: transparent;\n",
              "      border-right-color: var(--fill-color);\n",
              "    }\n",
              "    80% {\n",
              "      border-color: transparent;\n",
              "      border-right-color: var(--fill-color);\n",
              "      border-bottom-color: var(--fill-color);\n",
              "    }\n",
              "    90% {\n",
              "      border-color: transparent;\n",
              "      border-bottom-color: var(--fill-color);\n",
              "    }\n",
              "  }\n",
              "</style>\n",
              "\n",
              "      <script>\n",
              "        async function quickchart(key) {\n",
              "          const quickchartButtonEl =\n",
              "            document.querySelector('#' + key + ' button');\n",
              "          quickchartButtonEl.disabled = true;  // To prevent multiple clicks.\n",
              "          quickchartButtonEl.classList.add('colab-df-spinner');\n",
              "          try {\n",
              "            const charts = await google.colab.kernel.invokeFunction(\n",
              "                'suggestCharts', [key], {});\n",
              "          } catch (error) {\n",
              "            console.error('Error during call to suggestCharts:', error);\n",
              "          }\n",
              "          quickchartButtonEl.classList.remove('colab-df-spinner');\n",
              "          quickchartButtonEl.classList.add('colab-df-quickchart-complete');\n",
              "        }\n",
              "        (() => {\n",
              "          let quickchartButtonEl =\n",
              "            document.querySelector('#df-d0354c7e-47c6-402d-b8d8-efac476a37aa button');\n",
              "          quickchartButtonEl.style.display =\n",
              "            google.colab.kernel.accessAllowed ? 'block' : 'none';\n",
              "        })();\n",
              "      </script>\n",
              "    </div>\n",
              "\n",
              "    </div>\n",
              "  </div>\n"
            ],
            "application/vnd.google.colaboratory.intrinsic+json": {
              "type": "dataframe",
              "summary": "{\n  \"name\": \"dc\",\n  \"rows\": 3,\n  \"fields\": [\n    {\n      \"column\": \"age\",\n      \"properties\": {\n        \"dtype\": \"number\",\n        \"std\": 16.932980639371596,\n        \"min\": -15.75,\n        \"max\": 17.75,\n        \"num_unique_values\": 3,\n        \"samples\": [\n          5.3,\n          17.75,\n          -15.75\n        ],\n        \"semantic_type\": \"\",\n        \"description\": \"\"\n      }\n    },\n    {\n      \"column\": \"communication_skill_score\",\n      \"properties\": {\n        \"dtype\": \"number\",\n        \"std\": 71.34876196076098,\n        \"min\": -60.0,\n        \"max\": 82.5,\n        \"num_unique_values\": 3,\n        \"samples\": [\n          17.75,\n          82.5,\n          -60.0\n        ],\n        \"semantic_type\": \"\",\n        \"description\": \"\"\n      }\n    },\n    {\n      \"column\": \"quantitative_skill_score\",\n      \"properties\": {\n        \"dtype\": \"number\",\n        \"std\": 58.006644734317575,\n        \"min\": -60.0,\n        \"max\": 55.0,\n        \"num_unique_values\": 3,\n        \"samples\": [\n          -15.75,\n          -60.0,\n          55.0\n        ],\n        \"semantic_type\": \"\",\n        \"description\": \"\"\n      }\n    }\n  ]\n}"
            }
          },
          "metadata": {},
          "execution_count": 14
        }
      ]
    },
    {
      "cell_type": "markdown",
      "source": [
        "**Contoh Latihan Data Wrangling**\n",
        "\n",
        "•\tTahap gathering data.\n",
        "\n",
        "•\tTahap assessing data.\n",
        "\n",
        "•\tTahap cleaning data."
      ],
      "metadata": {
        "id": "egxP9KFsnMu8"
      }
    },
    {
      "cell_type": "code",
      "source": [
        "import pandas as pd\n",
        "#Gathering Data\n",
        "customers_df = pd.read_csv(\"https://raw.githubusercontent.com/dicodingacademy/dicoding_dataset/main/DicodingCollection/customers.csv\")\n",
        "customers_df.head()\n",
        "\n",
        "#Assessing Data\n",
        "print(\"====PENGECEKAN TIPE DATA TIAP KOLOM====\")\n",
        "customers_df.info() #Mengecek tipe data setiap kolom\n",
        "print(\"\\n====PENGECEKAN MISSING VALUE====\")\n",
        "print(customers_df.isna().sum()) #Mengecek missing value\n",
        "print(\"\\n====PENGECEKAN DUPLICATE DATA====\")\n",
        "print(\"Jumlah duplikasi: \", customers_df.duplicated().sum()) #mengecek data yang duplikat\n",
        "print(\"\\n====RINGKASAN PARAMETER STATISTIK====\")\n",
        "print(customers_df.describe()) #menampilkan ringkasan parameter statistik\n",
        "\n",
        "#Cleaning Data\n",
        "#Menghilangkan duplicated data\n",
        "print(\"\\n====PENANGANAN DUPLICATED DATA====\")\n",
        "customers_df.drop_duplicates(inplace=True)\n",
        "print(\"Jumlah duplikasi: \", customers_df.duplicated().sum())\n",
        "\n",
        "#Menangani Missing value\n",
        "print(\"\\n====PENANGANAN MISSING VALUE====\")\n",
        "print(customers_df[customers_df.gender.isna()]) #untuk melihat baris yang memiliki missing value pada kolom gender\n",
        "print(customers_df.gender.value_counts()) #untuk mengidentifikasi nilai yang dominan sebagai pengganti missing value\n",
        "customers_df.fillna(value=\"Prefer not to say\", inplace=True)\n",
        "print(\"\\nJumlah Missing Value Tiap Kolom (Sesudah):\")\n",
        "print(customers_df.isna().sum())"
      ],
      "metadata": {
        "colab": {
          "base_uri": "https://localhost:8080/"
        },
        "id": "03y2IAIefW51",
        "outputId": "9f2c2029-e0f7-4dee-d9ff-fc6b9a1f5311"
      },
      "execution_count": 15,
      "outputs": [
        {
          "output_type": "stream",
          "name": "stdout",
          "text": [
            "====PENGECEKAN TIPE DATA TIAP KOLOM====\n",
            "<class 'pandas.core.frame.DataFrame'>\n",
            "RangeIndex: 1007 entries, 0 to 1006\n",
            "Data columns (total 9 columns):\n",
            " #   Column         Non-Null Count  Dtype \n",
            "---  ------         --------------  ----- \n",
            " 0   customer_id    1007 non-null   int64 \n",
            " 1   customer_name  1007 non-null   object\n",
            " 2   gender         989 non-null    object\n",
            " 3   age            1007 non-null   int64 \n",
            " 4   home_address   1007 non-null   object\n",
            " 5   zip_code       1007 non-null   int64 \n",
            " 6   city           1007 non-null   object\n",
            " 7   state          1007 non-null   object\n",
            " 8   country        1007 non-null   object\n",
            "dtypes: int64(3), object(6)\n",
            "memory usage: 70.9+ KB\n",
            "\n",
            "====PENGECEKAN MISSING VALUE====\n",
            "customer_id       0\n",
            "customer_name     0\n",
            "gender           18\n",
            "age               0\n",
            "home_address      0\n",
            "zip_code          0\n",
            "city              0\n",
            "state             0\n",
            "country           0\n",
            "dtype: int64\n",
            "\n",
            "====PENGECEKAN DUPLICATE DATA====\n",
            "Jumlah duplikasi:  6\n",
            "\n",
            "====RINGKASAN PARAMETER STATISTIK====\n",
            "       customer_id          age     zip_code\n",
            "count  1007.000000  1007.000000  1007.000000\n",
            "mean    501.726912    50.929494  5012.538232\n",
            "std     288.673238    30.516299  2885.836112\n",
            "min       1.000000    20.000000     2.000000\n",
            "25%     252.500000    34.000000  2403.500000\n",
            "50%     502.000000    50.000000  5087.000000\n",
            "75%     751.500000    65.000000  7493.500000\n",
            "max    1000.000000   700.000000  9998.000000\n",
            "\n",
            "====PENANGANAN DUPLICATED DATA====\n",
            "Jumlah duplikasi:  0\n",
            "\n",
            "====PENANGANAN MISSING VALUE====\n",
            "     customer_id customer_name gender  age                     home_address  \\\n",
            "38            39      fulan 39    NaN   80  7440 Cameron Estate DrSuite 628   \n",
            "167          168     fulan 168    NaN   27         2781 Berge MallSuite 452   \n",
            "322          322     fulan 322    NaN   30        593 Becker CircleApt. 333   \n",
            "393          393     fulan 393    NaN   34          5158 Levi HillSuite 531   \n",
            "442          442     fulan 442    NaN   26           5157 Feil RoadApt. 633   \n",
            "722          720     fulan 720    NaN   40         31 Jordan ParadeApt. 400   \n",
            "745          743     fulan 743    NaN   57   09 Christopher StreetSuite 967   \n",
            "773          771     fulan 771    NaN   74     7367 Wright JunctionApt. 773   \n",
            "798          795     fulan 795    NaN   49          487 Summer MewsApt. 874   \n",
            "801          798     fulan 798    NaN   56           27 Aiden KnollApt. 875   \n",
            "825          822     fulan 822    NaN   59        41 Jenkins KnollSuite 438   \n",
            "859          855     fulan 855    NaN   55       603 O'keefe KnollSuite 782   \n",
            "863          859     fulan 859    NaN   38            32 Isla GroveApt. 078   \n",
            "914          909     fulan 909    NaN   62    976 Murray Station StApt. 036   \n",
            "934          929     fulan 929    NaN   68           394 Lily HillSuite 153   \n",
            "948          943     fulan 943    NaN   64       3117 Heller PlaceSuite 149   \n",
            "952          946     fulan 946    NaN   24      8227 Nicholas HillSuite 150   \n",
            "994          988     fulan 988    NaN   35   1130 Turner Estate DrSuite 925   \n",
            "\n",
            "     zip_code                   city                         state    country  \n",
            "38       4622  North Victoriachester            Northern Territory  Australia  \n",
            "167      1975         North Leoburgh             Western Australia  Australia  \n",
            "322      1640             Jacobiview             Western Australia  Australia  \n",
            "393      1474             Johnsburgh                    Queensland  Australia  \n",
            "442      7249             Port Chloe               New South Wales  Australia  \n",
            "722      1380             West Henry               South Australia  Australia  \n",
            "745      6226         Lake Lukemouth             Western Australia  Australia  \n",
            "773      8882               Kuhntown                      Victoria  Australia  \n",
            "798      1712            East Hayden  Australian Capital Territory  Australia  \n",
            "801      6531               Port Sam  Australian Capital Territory  Australia  \n",
            "825      2588        Lake Andrewport               South Australia  Australia  \n",
            "859      8822        Port Dylanmouth                      Tasmania  Australia  \n",
            "863      7711            Rosechester               New South Wales  Australia  \n",
            "914      3227               Langfort                      Tasmania  Australia  \n",
            "934      2353             Beahanfurt            Northern Territory  Australia  \n",
            "948       822           North Elijah               South Australia  Australia  \n",
            "952       115           South Jasper                    Queensland  Australia  \n",
            "994      9386              New Harry             Western Australia  Australia  \n",
            "gender\n",
            "Prefer not to say    725\n",
            "Male                 143\n",
            "Female               115\n",
            "Name: count, dtype: int64\n",
            "\n",
            "Jumlah Missing Value Tiap Kolom (Sesudah):\n",
            "customer_id      0\n",
            "customer_name    0\n",
            "gender           0\n",
            "age              0\n",
            "home_address     0\n",
            "zip_code         0\n",
            "city             0\n",
            "state            0\n",
            "country          0\n",
            "dtype: int64\n"
          ]
        }
      ]
    },
    {
      "cell_type": "markdown",
      "source": [
        "**Soal Latihan Data Wrangling**\n",
        "\n",
        "Kerjakan tahapan gathering, assessing, dan cleaning data seperti contoh diatas menggunakan kedua dataset dibawah ini,\n",
        "\n",
        "orders_df = pd.read_csv(\"https://raw.githubusercontent.com/dicodingacademy/dicoding_dataset/main/DicodingCollection/orders.csv\")\n",
        "\n",
        "sales_df = pd.read_csv(\"https://raw.githubusercontent.com/dicodingacademy/dicoding_dataset/main/DicodingCollection/sales.csv\")"
      ],
      "metadata": {
        "id": "qL-hNyX_bJLa"
      }
    },
    {
      "cell_type": "code",
      "source": [],
      "metadata": {
        "id": "RMQPo34sc_oF"
      },
      "execution_count": null,
      "outputs": []
    }
  ]
}
